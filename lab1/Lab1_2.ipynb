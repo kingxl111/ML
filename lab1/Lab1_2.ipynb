{
  "cells": [
    {
      "cell_type": "markdown",
      "id": "ec6e7d18-6a6e-4a51-a7cd-0a1152604973",
      "metadata": {
        "id": "ec6e7d18-6a6e-4a51-a7cd-0a1152604973"
      },
      "source": [
        "## Лабораторная работа №1 | Вариант 2"
      ]
    },
    {
      "cell_type": "markdown",
      "id": "277877ce-f982-4711-a6a6-2a4a90871409",
      "metadata": {
        "id": "277877ce-f982-4711-a6a6-2a4a90871409"
      },
      "source": [
        "Выполнил: Медведев Вадим Дмитриевич, М8О-306Б-22"
      ]
    },
    {
      "cell_type": "markdown",
      "id": "031f025d-84dc-470f-b839-456a76d9636b",
      "metadata": {
        "id": "031f025d-84dc-470f-b839-456a76d9636b"
      },
      "source": [
        "### 1. Numpy"
      ]
    },
    {
      "cell_type": "code",
      "execution_count": 1,
      "id": "8a2c6f8d-e85b-4982-ba6d-77ffdb7d53e8",
      "metadata": {
        "id": "8a2c6f8d-e85b-4982-ba6d-77ffdb7d53e8"
      },
      "outputs": [],
      "source": [
        "import numpy as np"
      ]
    },
    {
      "cell_type": "markdown",
      "id": "6ff3559d-5f3e-4540-9a31-bfb9f42a23da",
      "metadata": {
        "id": "6ff3559d-5f3e-4540-9a31-bfb9f42a23da"
      },
      "source": [
        "1. Создайте матрицу размером 8х8 и заполните ее шахматным рисунком"
      ]
    },
    {
      "cell_type": "code",
      "execution_count": null,
      "id": "752bc586-1e3f-4085-85c3-4068b781314f",
      "metadata": {
        "colab": {
          "base_uri": "https://localhost:8080/"
        },
        "id": "752bc586-1e3f-4085-85c3-4068b781314f",
        "outputId": "a18db710-5f74-4e58-ac95-a0cc4c08fb32"
      },
      "outputs": [
        {
          "output_type": "execute_result",
          "data": {
            "text/plain": [
              "array([[1, 0, 1, 0, 1, 0, 1, 0],\n",
              "       [0, 1, 0, 1, 0, 1, 0, 1],\n",
              "       [1, 0, 1, 0, 1, 0, 1, 0],\n",
              "       [0, 1, 0, 1, 0, 1, 0, 1],\n",
              "       [1, 0, 1, 0, 1, 0, 1, 0],\n",
              "       [0, 1, 0, 1, 0, 1, 0, 1],\n",
              "       [1, 0, 1, 0, 1, 0, 1, 0],\n",
              "       [0, 1, 0, 1, 0, 1, 0, 1]])"
            ]
          },
          "metadata": {},
          "execution_count": 19
        }
      ],
      "source": [
        "size = 8\n",
        "chess_field = np.arange(size * size)\n",
        "\n",
        "chess_field[chess_field % 2 == 0] = \"0\"\n",
        "chess_field[chess_field % 2 != 0] = \"1\"\n",
        "chess_field = chess_field.reshape(size, size)\n",
        "row = np.arange(2, size + 2)\n",
        "row[row % 2 != 0] = \"0\"\n",
        "row[(row % 2 == 0) & (row != 0)] = \"1\"\n",
        "chess_field[::2] = row\n",
        "chess_field"
      ]
    },
    {
      "cell_type": "markdown",
      "id": "0243a0f6-1905-4e2d-9572-9ba49dc003a8",
      "metadata": {
        "id": "0243a0f6-1905-4e2d-9572-9ba49dc003a8"
      },
      "source": [
        "2. Каков результат выполнения следующих выражений?\n",
        "\n",
        "```python\n",
        "np.array(0) / np.array(0)\n",
        "np.array(0) // np.array(0)\n",
        "np.array([np.nan]).astype(int).astype(float)\n",
        "```"
      ]
    },
    {
      "cell_type": "code",
      "execution_count": null,
      "id": "ec6ae581-5adf-459c-bdc7-8b015d9529f6",
      "metadata": {
        "colab": {
          "base_uri": "https://localhost:8080/"
        },
        "id": "ec6ae581-5adf-459c-bdc7-8b015d9529f6",
        "outputId": "ffc67fd9-a259-44b1-b315-edc0e65b420f"
      },
      "outputs": [
        {
          "output_type": "stream",
          "name": "stderr",
          "text": [
            "<ipython-input-21-cd809174da5d>:1: RuntimeWarning: invalid value encountered in divide\n",
            "  np.array(0) / np.array(0)\n",
            "<ipython-input-21-cd809174da5d>:2: RuntimeWarning: divide by zero encountered in floor_divide\n",
            "  np.array(0) // np.array(0)\n",
            "<ipython-input-21-cd809174da5d>:3: RuntimeWarning: invalid value encountered in cast\n",
            "  np.array([np.nan]).astype(int).astype(float)\n"
          ]
        },
        {
          "output_type": "execute_result",
          "data": {
            "text/plain": [
              "array([-9.22337204e+18])"
            ]
          },
          "metadata": {},
          "execution_count": 21
        }
      ],
      "source": [
        "np.array(0) / np.array(0)\n",
        "np.array(0) // np.array(0)\n",
        "np.array([np.nan]).astype(int).astype(float)"
      ]
    },
    {
      "cell_type": "markdown",
      "id": "8c7d3811-a555-4c02-ada8-e4a70b9dee46",
      "metadata": {
        "id": "8c7d3811-a555-4c02-ada8-e4a70b9dee46"
      },
      "source": [
        "3. Создайте матрицу-шахматную доску 8х8 используя функцию `tile`"
      ]
    },
    {
      "cell_type": "code",
      "execution_count": null,
      "id": "12d0ed34-908c-4840-8b81-457e64dd7b0b",
      "metadata": {
        "colab": {
          "base_uri": "https://localhost:8080/"
        },
        "id": "12d0ed34-908c-4840-8b81-457e64dd7b0b",
        "outputId": "7ecb393f-64ef-4dd2-91dd-04d3f79446e1"
      },
      "outputs": [
        {
          "output_type": "execute_result",
          "data": {
            "text/plain": [
              "array([[0, 1, 0, 1, 0, 1, 0, 1],\n",
              "       [1, 0, 1, 0, 1, 0, 1, 0],\n",
              "       [0, 1, 0, 1, 0, 1, 0, 1],\n",
              "       [1, 0, 1, 0, 1, 0, 1, 0],\n",
              "       [0, 1, 0, 1, 0, 1, 0, 1],\n",
              "       [1, 0, 1, 0, 1, 0, 1, 0],\n",
              "       [0, 1, 0, 1, 0, 1, 0, 1],\n",
              "       [1, 0, 1, 0, 1, 0, 1, 0]])"
            ]
          },
          "metadata": {},
          "execution_count": 30
        }
      ],
      "source": [
        "ar = [[0,1], [1,0]]\n",
        "field = np.tile(ar, (4, 4))\n",
        "field"
      ]
    },
    {
      "cell_type": "markdown",
      "id": "b7ca56e6-a194-4c42-b8a2-307fcf40f648",
      "metadata": {
        "id": "b7ca56e6-a194-4c42-b8a2-307fcf40f648"
      },
      "source": [
        "4. Как округлить до целых массив чисел с плавающей точкой?"
      ]
    },
    {
      "cell_type": "code",
      "execution_count": null,
      "id": "1b1d64cd-0e28-400f-8d49-a1274947e150",
      "metadata": {
        "colab": {
          "base_uri": "https://localhost:8080/"
        },
        "id": "1b1d64cd-0e28-400f-8d49-a1274947e150",
        "outputId": "01f11008-3d83-41af-e56e-109d950d396f"
      },
      "outputs": [
        {
          "output_type": "execute_result",
          "data": {
            "text/plain": [
              "array([ 1.,  1.,  1.,  1.,  1.,  1.,  2.,  2.,  2.,  2.,  2.,  2.,  2.,\n",
              "        2.,  2.,  2.,  2.,  3.,  3.,  3.,  3.,  3.,  3.,  3.,  3.,  3.,\n",
              "        3.,  3.,  4.,  4.,  4.,  4.,  4.,  4.,  4.,  4.,  4.,  4.,  4.,\n",
              "        5.,  5.,  5.,  5.,  5.,  5.,  5.,  5.,  5.,  5.,  5.,  6.,  6.,\n",
              "        6.,  6.,  6.,  6.,  6.,  6.,  6.,  6.,  6.,  7.,  7.,  7.,  7.,\n",
              "        7.,  7.,  7.,  7.,  7.,  7.,  7.,  8.,  8.,  8.,  8.,  8.,  8.,\n",
              "        8.,  8.,  8.,  8.,  8.,  9.,  9.,  9.,  9.,  9.,  9.,  9.,  9.,\n",
              "        9.,  9.,  9., 10., 10., 10., 10., 10., 10.])"
            ]
          },
          "metadata": {},
          "execution_count": 35
        }
      ],
      "source": [
        "arr = np.linspace(1, 10, 100)\n",
        "arr = np.round(arr, 0)\n",
        "arr"
      ]
    },
    {
      "cell_type": "markdown",
      "id": "b3b2cd1e-e996-45e0-b9ed-e12ce653a9c3",
      "metadata": {
        "id": "b3b2cd1e-e996-45e0-b9ed-e12ce653a9c3"
      },
      "source": [
        "5. Как найти общие значения между двумя массивами?"
      ]
    },
    {
      "cell_type": "code",
      "execution_count": null,
      "id": "c40ef785-d750-42ba-ac6e-b777866202a6",
      "metadata": {
        "colab": {
          "base_uri": "https://localhost:8080/"
        },
        "id": "c40ef785-d750-42ba-ac6e-b777866202a6",
        "outputId": "6f5d099e-919a-49ad-bae4-9834a978743b"
      },
      "outputs": [
        {
          "output_type": "stream",
          "name": "stdout",
          "text": [
            "[ 1  3  5  7  9 11 13 15 17]\n",
            "[ 1  4  9 16 25 36 49 64 81]\n",
            "[1 9]\n"
          ]
        }
      ],
      "source": [
        "a = np.arange(1, 18, 2)\n",
        "print(a)\n",
        "b = np.arange(1, len(a) + 1)\n",
        "b = b * b\n",
        "print(b)\n",
        "c = np.intersect1d(a, b)\n",
        "print(c)"
      ]
    },
    {
      "cell_type": "markdown",
      "id": "8108b3a8-5ba8-472d-ad6b-095ade8678ef",
      "metadata": {
        "id": "8108b3a8-5ba8-472d-ad6b-095ade8678ef"
      },
      "source": [
        "6. Как вычислить ((A+B)*(-A/2)) на месте (без копирования)?"
      ]
    },
    {
      "cell_type": "code",
      "execution_count": null,
      "id": "89b58c0a-bd5d-435a-be45-719fdfce662a",
      "metadata": {
        "colab": {
          "base_uri": "https://localhost:8080/"
        },
        "id": "89b58c0a-bd5d-435a-be45-719fdfce662a",
        "outputId": "bf56fa0a-6c94-407a-c02a-c55b614104c8"
      },
      "outputs": [
        {
          "output_type": "execute_result",
          "data": {
            "text/plain": [
              "array([  -1. ,  -10.5,  -35. ,  -80.5, -153. , -258.5, -403. , -592.5,\n",
              "       -833. ])"
            ]
          },
          "metadata": {},
          "execution_count": 51
        }
      ],
      "source": [
        "((a + b) * (-a / 2))"
      ]
    },
    {
      "cell_type": "markdown",
      "id": "98511652-db85-4506-a5b8-f94b05d35ce9",
      "metadata": {
        "id": "98511652-db85-4506-a5b8-f94b05d35ce9"
      },
      "source": [
        "7. Рассмотрим случайный вектор с формой 100х2, представляющей координаты, и найдем расстояния от точки к точке"
      ]
    },
    {
      "cell_type": "code",
      "execution_count": null,
      "id": "ca72cdb0-ed24-460d-81a9-220b850d62c3",
      "metadata": {
        "colab": {
          "base_uri": "https://localhost:8080/"
        },
        "id": "ca72cdb0-ed24-460d-81a9-220b850d62c3",
        "outputId": "27287f87-b2f3-4abd-e09e-d582ef2ab5b6"
      },
      "outputs": [
        {
          "output_type": "stream",
          "name": "stdout",
          "text": [
            "[[0.78742269 0.83366933]\n",
            " [0.54790446 0.9734491 ]\n",
            " [0.23683356 0.64692334]\n",
            " [0.06502607 0.55557761]\n",
            " [0.40235748 0.2659658 ]]\n",
            "[0.27732177 0.45098135 0.19458123 0.44459811]\n",
            "0.44459811140406824\n"
          ]
        }
      ],
      "source": [
        "from numpy.random import default_rng\n",
        "a = default_rng(50).random((100,2))   # исходный массив с рандомными координатами\n",
        "print(a[:5])\n",
        "result = np.diff(a, axis = 0)         # ищем разности между соответствующими координатами\n",
        "result *= result                      # возводим в квадрат, чтобы воспользоваться теоремой Пифагора\n",
        "answer = np.sum(result, axis = 1)     # складываем расстояние по оси абсцисс и оси ординат, для чего используем axis = 1\n",
        "answer = answer ** 0.5\n",
        "print(answer[:4])                     # расстояний будет на одно меньше, чем самих точек\n",
        "print(((0.06502607 - 0.40235748) ** 2 + (0.55557761 - 0.2659658) ** 2) ** 0.5)"
      ]
    },
    {
      "cell_type": "markdown",
      "id": "1412a70a-2a1e-406e-a227-afc9a47ed659",
      "metadata": {
        "id": "1412a70a-2a1e-406e-a227-afc9a47ed659"
      },
      "source": [
        "8. Как конвертировать массив float(32 bit) к массиву целых чисел (integer 32 bit) in place?"
      ]
    },
    {
      "cell_type": "code",
      "execution_count": null,
      "id": "22bb8bbf-52dd-4d3c-86c0-c4e9637b909b",
      "metadata": {
        "id": "22bb8bbf-52dd-4d3c-86c0-c4e9637b909b",
        "colab": {
          "base_uri": "https://localhost:8080/"
        },
        "outputId": "4f0c301d-4dc1-4239-bcf6-75b82d5011f0"
      },
      "outputs": [
        {
          "output_type": "stream",
          "name": "stdout",
          "text": [
            "[1.         1.44444444 1.88888889 2.33333333 2.77777778 3.22222222\n",
            " 3.66666667 4.11111111 4.55555556 5.        ]\n",
            "[1 1 1 2 2 3 3 4 4 5]\n"
          ]
        }
      ],
      "source": [
        "ar = np.linspace(1, 5, 10)\n",
        "print(ar)\n",
        "ar = ar.astype(np.int32, copy=False)\n",
        "print(ar)"
      ]
    },
    {
      "cell_type": "markdown",
      "id": "f7dc66bf-f7c8-4d78-834b-451651f6839a",
      "metadata": {
        "id": "f7dc66bf-f7c8-4d78-834b-451651f6839a"
      },
      "source": [
        "9. Создайте структурированный массив, представляющий позицию (x, y) и цвет (r, g, b)."
      ]
    },
    {
      "cell_type": "code",
      "execution_count": null,
      "id": "0ecf5586-d30e-4256-ab93-7ff9bab0b34b",
      "metadata": {
        "id": "0ecf5586-d30e-4256-ab93-7ff9bab0b34b",
        "colab": {
          "base_uri": "https://localhost:8080/"
        },
        "outputId": "af6f1a3e-d880-4954-ef42-7c6b0b087272"
      },
      "outputs": [
        {
          "output_type": "execute_result",
          "data": {
            "text/plain": [
              "array([( 1,   2, 'r'), ( 5, 100, 'g'), (10,  54, 'b')],\n",
              "      dtype=[('x', '<i4'), ('y', '<i4'), ('color', '<U1')])"
            ]
          },
          "metadata": {},
          "execution_count": 107
        }
      ],
      "source": [
        "x = np.array([(1, 2, \"r\"), (5, 100, \"g\"), (10, 54, \"b\")], dtype=[('x', 'i4'), ('y', 'i4'), ('color', 'U1')])\n",
        "x"
      ]
    },
    {
      "cell_type": "markdown",
      "id": "a66194f1-0099-4808-8ebf-5cf10eee5071",
      "metadata": {
        "id": "a66194f1-0099-4808-8ebf-5cf10eee5071"
      },
      "source": [
        "10. Какой эквивалент enumerate для numpy массивов?"
      ]
    },
    {
      "cell_type": "code",
      "execution_count": null,
      "id": "07ed452c-3f7c-40a7-a5b5-716602a5eed9",
      "metadata": {
        "id": "07ed452c-3f7c-40a7-a5b5-716602a5eed9",
        "colab": {
          "base_uri": "https://localhost:8080/"
        },
        "outputId": "ce941f1a-d6af-4c5e-aade-716ba85e5a3c"
      },
      "outputs": [
        {
          "output_type": "stream",
          "name": "stdout",
          "text": [
            "((0,), (1, 2, 'r'))\n",
            "((1,), (5, 100, 'g'))\n",
            "((2,), (10, 54, 'b'))\n"
          ]
        }
      ],
      "source": [
        "for t in np.ndenumerate(x):\n",
        "    print(t)"
      ]
    },
    {
      "cell_type": "markdown",
      "id": "5bd0f757-bb01-4afb-b4f0-6821b5c5b2b7",
      "metadata": {
        "id": "5bd0f757-bb01-4afb-b4f0-6821b5c5b2b7"
      },
      "source": [
        "### 2. Pandas"
      ]
    },
    {
      "cell_type": "markdown",
      "id": "bdffd013-e573-4318-8062-65ae1c5e07e8",
      "metadata": {
        "id": "bdffd013-e573-4318-8062-65ae1c5e07e8"
      },
      "source": [
        "Найдите ответы на вопросы или выполните действия с предложенным датасетом\n",
        "\n",
        "Данные о преступлениях, совершенных женщинами в Индии, с демографическими подробностями.\n",
        "\n",
        "Файл: `CrimesOnWomenData.csv`\n",
        "\n",
        "```\n",
        "State - название штата/региона\n",
        "Year - год записи\n",
        "Rape - случаи изнасилования\n",
        "K&A - случаи похищения\n",
        "DD - смерти из-за приданого\n",
        "AoW - нападение на женщин\n",
        "AoM - нападение на женскую скромность(modestity)\n",
        "DV - бытовое насилие\n",
        "WT - торговля женщинами\n",
        "```"
      ]
    },
    {
      "cell_type": "code",
      "execution_count": 2,
      "id": "0778ec2b-a7b2-4738-b771-bb1781986f62",
      "metadata": {
        "id": "0778ec2b-a7b2-4738-b771-bb1781986f62"
      },
      "outputs": [],
      "source": [
        "import pandas as pd"
      ]
    },
    {
      "cell_type": "code",
      "execution_count": 11,
      "id": "bfc45614-d44b-49bd-a55c-c410a95a808f",
      "metadata": {
        "id": "bfc45614-d44b-49bd-a55c-c410a95a808f",
        "colab": {
          "base_uri": "https://localhost:8080/",
          "height": 423
        },
        "outputId": "08cc64d3-ee4c-4dc8-9b11-78c39069ace6"
      },
      "outputs": [
        {
          "output_type": "execute_result",
          "data": {
            "text/plain": [
              "     Unnamed: 0              State  Year  Rape   K&A   DD   AoW   AoM    DV  \\\n",
              "0             0     ANDHRA PRADESH  2001   871   765  420  3544  2271  5791   \n",
              "1             1  ARUNACHAL PRADESH  2001    33    55    0    78     3    11   \n",
              "2             2              ASSAM  2001   817  1070   59   850     4  1248   \n",
              "3             3              BIHAR  2001   888   518  859   562    21  1558   \n",
              "4             4       CHHATTISGARH  2001   959   171   70  1763   161   840   \n",
              "..          ...                ...   ...   ...   ...  ...   ...   ...   ...   \n",
              "731         731         D&N Haveli  2021  1250  4083  141  2068   417  4731   \n",
              "732         732        Daman & Diu  2021   315   904   16  1851    10   501   \n",
              "733         733           Delhi UT  2021     2     1    0     5     1     9   \n",
              "734         734        Lakshadweep  2021     0     0    0     1     1     3   \n",
              "735         735         Puducherry  2021     2     0    2    31     3    12   \n",
              "\n",
              "     WT  \n",
              "0     7  \n",
              "1     0  \n",
              "2     0  \n",
              "3    83  \n",
              "4     0  \n",
              "..   ..  \n",
              "731   4  \n",
              "732   1  \n",
              "733   0  \n",
              "734   0  \n",
              "735   0  \n",
              "\n",
              "[736 rows x 10 columns]"
            ],
            "text/html": [
              "\n",
              "  <div id=\"df-09a5e826-e056-4b14-88e3-1a833f9a114f\" class=\"colab-df-container\">\n",
              "    <div>\n",
              "<style scoped>\n",
              "    .dataframe tbody tr th:only-of-type {\n",
              "        vertical-align: middle;\n",
              "    }\n",
              "\n",
              "    .dataframe tbody tr th {\n",
              "        vertical-align: top;\n",
              "    }\n",
              "\n",
              "    .dataframe thead th {\n",
              "        text-align: right;\n",
              "    }\n",
              "</style>\n",
              "<table border=\"1\" class=\"dataframe\">\n",
              "  <thead>\n",
              "    <tr style=\"text-align: right;\">\n",
              "      <th></th>\n",
              "      <th>Unnamed: 0</th>\n",
              "      <th>State</th>\n",
              "      <th>Year</th>\n",
              "      <th>Rape</th>\n",
              "      <th>K&amp;A</th>\n",
              "      <th>DD</th>\n",
              "      <th>AoW</th>\n",
              "      <th>AoM</th>\n",
              "      <th>DV</th>\n",
              "      <th>WT</th>\n",
              "    </tr>\n",
              "  </thead>\n",
              "  <tbody>\n",
              "    <tr>\n",
              "      <th>0</th>\n",
              "      <td>0</td>\n",
              "      <td>ANDHRA PRADESH</td>\n",
              "      <td>2001</td>\n",
              "      <td>871</td>\n",
              "      <td>765</td>\n",
              "      <td>420</td>\n",
              "      <td>3544</td>\n",
              "      <td>2271</td>\n",
              "      <td>5791</td>\n",
              "      <td>7</td>\n",
              "    </tr>\n",
              "    <tr>\n",
              "      <th>1</th>\n",
              "      <td>1</td>\n",
              "      <td>ARUNACHAL PRADESH</td>\n",
              "      <td>2001</td>\n",
              "      <td>33</td>\n",
              "      <td>55</td>\n",
              "      <td>0</td>\n",
              "      <td>78</td>\n",
              "      <td>3</td>\n",
              "      <td>11</td>\n",
              "      <td>0</td>\n",
              "    </tr>\n",
              "    <tr>\n",
              "      <th>2</th>\n",
              "      <td>2</td>\n",
              "      <td>ASSAM</td>\n",
              "      <td>2001</td>\n",
              "      <td>817</td>\n",
              "      <td>1070</td>\n",
              "      <td>59</td>\n",
              "      <td>850</td>\n",
              "      <td>4</td>\n",
              "      <td>1248</td>\n",
              "      <td>0</td>\n",
              "    </tr>\n",
              "    <tr>\n",
              "      <th>3</th>\n",
              "      <td>3</td>\n",
              "      <td>BIHAR</td>\n",
              "      <td>2001</td>\n",
              "      <td>888</td>\n",
              "      <td>518</td>\n",
              "      <td>859</td>\n",
              "      <td>562</td>\n",
              "      <td>21</td>\n",
              "      <td>1558</td>\n",
              "      <td>83</td>\n",
              "    </tr>\n",
              "    <tr>\n",
              "      <th>4</th>\n",
              "      <td>4</td>\n",
              "      <td>CHHATTISGARH</td>\n",
              "      <td>2001</td>\n",
              "      <td>959</td>\n",
              "      <td>171</td>\n",
              "      <td>70</td>\n",
              "      <td>1763</td>\n",
              "      <td>161</td>\n",
              "      <td>840</td>\n",
              "      <td>0</td>\n",
              "    </tr>\n",
              "    <tr>\n",
              "      <th>...</th>\n",
              "      <td>...</td>\n",
              "      <td>...</td>\n",
              "      <td>...</td>\n",
              "      <td>...</td>\n",
              "      <td>...</td>\n",
              "      <td>...</td>\n",
              "      <td>...</td>\n",
              "      <td>...</td>\n",
              "      <td>...</td>\n",
              "      <td>...</td>\n",
              "    </tr>\n",
              "    <tr>\n",
              "      <th>731</th>\n",
              "      <td>731</td>\n",
              "      <td>D&amp;N Haveli</td>\n",
              "      <td>2021</td>\n",
              "      <td>1250</td>\n",
              "      <td>4083</td>\n",
              "      <td>141</td>\n",
              "      <td>2068</td>\n",
              "      <td>417</td>\n",
              "      <td>4731</td>\n",
              "      <td>4</td>\n",
              "    </tr>\n",
              "    <tr>\n",
              "      <th>732</th>\n",
              "      <td>732</td>\n",
              "      <td>Daman &amp; Diu</td>\n",
              "      <td>2021</td>\n",
              "      <td>315</td>\n",
              "      <td>904</td>\n",
              "      <td>16</td>\n",
              "      <td>1851</td>\n",
              "      <td>10</td>\n",
              "      <td>501</td>\n",
              "      <td>1</td>\n",
              "    </tr>\n",
              "    <tr>\n",
              "      <th>733</th>\n",
              "      <td>733</td>\n",
              "      <td>Delhi UT</td>\n",
              "      <td>2021</td>\n",
              "      <td>2</td>\n",
              "      <td>1</td>\n",
              "      <td>0</td>\n",
              "      <td>5</td>\n",
              "      <td>1</td>\n",
              "      <td>9</td>\n",
              "      <td>0</td>\n",
              "    </tr>\n",
              "    <tr>\n",
              "      <th>734</th>\n",
              "      <td>734</td>\n",
              "      <td>Lakshadweep</td>\n",
              "      <td>2021</td>\n",
              "      <td>0</td>\n",
              "      <td>0</td>\n",
              "      <td>0</td>\n",
              "      <td>1</td>\n",
              "      <td>1</td>\n",
              "      <td>3</td>\n",
              "      <td>0</td>\n",
              "    </tr>\n",
              "    <tr>\n",
              "      <th>735</th>\n",
              "      <td>735</td>\n",
              "      <td>Puducherry</td>\n",
              "      <td>2021</td>\n",
              "      <td>2</td>\n",
              "      <td>0</td>\n",
              "      <td>2</td>\n",
              "      <td>31</td>\n",
              "      <td>3</td>\n",
              "      <td>12</td>\n",
              "      <td>0</td>\n",
              "    </tr>\n",
              "  </tbody>\n",
              "</table>\n",
              "<p>736 rows × 10 columns</p>\n",
              "</div>\n",
              "    <div class=\"colab-df-buttons\">\n",
              "\n",
              "  <div class=\"colab-df-container\">\n",
              "    <button class=\"colab-df-convert\" onclick=\"convertToInteractive('df-09a5e826-e056-4b14-88e3-1a833f9a114f')\"\n",
              "            title=\"Convert this dataframe to an interactive table.\"\n",
              "            style=\"display:none;\">\n",
              "\n",
              "  <svg xmlns=\"http://www.w3.org/2000/svg\" height=\"24px\" viewBox=\"0 -960 960 960\">\n",
              "    <path d=\"M120-120v-720h720v720H120Zm60-500h600v-160H180v160Zm220 220h160v-160H400v160Zm0 220h160v-160H400v160ZM180-400h160v-160H180v160Zm440 0h160v-160H620v160ZM180-180h160v-160H180v160Zm440 0h160v-160H620v160Z\"/>\n",
              "  </svg>\n",
              "    </button>\n",
              "\n",
              "  <style>\n",
              "    .colab-df-container {\n",
              "      display:flex;\n",
              "      gap: 12px;\n",
              "    }\n",
              "\n",
              "    .colab-df-convert {\n",
              "      background-color: #E8F0FE;\n",
              "      border: none;\n",
              "      border-radius: 50%;\n",
              "      cursor: pointer;\n",
              "      display: none;\n",
              "      fill: #1967D2;\n",
              "      height: 32px;\n",
              "      padding: 0 0 0 0;\n",
              "      width: 32px;\n",
              "    }\n",
              "\n",
              "    .colab-df-convert:hover {\n",
              "      background-color: #E2EBFA;\n",
              "      box-shadow: 0px 1px 2px rgba(60, 64, 67, 0.3), 0px 1px 3px 1px rgba(60, 64, 67, 0.15);\n",
              "      fill: #174EA6;\n",
              "    }\n",
              "\n",
              "    .colab-df-buttons div {\n",
              "      margin-bottom: 4px;\n",
              "    }\n",
              "\n",
              "    [theme=dark] .colab-df-convert {\n",
              "      background-color: #3B4455;\n",
              "      fill: #D2E3FC;\n",
              "    }\n",
              "\n",
              "    [theme=dark] .colab-df-convert:hover {\n",
              "      background-color: #434B5C;\n",
              "      box-shadow: 0px 1px 3px 1px rgba(0, 0, 0, 0.15);\n",
              "      filter: drop-shadow(0px 1px 2px rgba(0, 0, 0, 0.3));\n",
              "      fill: #FFFFFF;\n",
              "    }\n",
              "  </style>\n",
              "\n",
              "    <script>\n",
              "      const buttonEl =\n",
              "        document.querySelector('#df-09a5e826-e056-4b14-88e3-1a833f9a114f button.colab-df-convert');\n",
              "      buttonEl.style.display =\n",
              "        google.colab.kernel.accessAllowed ? 'block' : 'none';\n",
              "\n",
              "      async function convertToInteractive(key) {\n",
              "        const element = document.querySelector('#df-09a5e826-e056-4b14-88e3-1a833f9a114f');\n",
              "        const dataTable =\n",
              "          await google.colab.kernel.invokeFunction('convertToInteractive',\n",
              "                                                    [key], {});\n",
              "        if (!dataTable) return;\n",
              "\n",
              "        const docLinkHtml = 'Like what you see? Visit the ' +\n",
              "          '<a target=\"_blank\" href=https://colab.research.google.com/notebooks/data_table.ipynb>data table notebook</a>'\n",
              "          + ' to learn more about interactive tables.';\n",
              "        element.innerHTML = '';\n",
              "        dataTable['output_type'] = 'display_data';\n",
              "        await google.colab.output.renderOutput(dataTable, element);\n",
              "        const docLink = document.createElement('div');\n",
              "        docLink.innerHTML = docLinkHtml;\n",
              "        element.appendChild(docLink);\n",
              "      }\n",
              "    </script>\n",
              "  </div>\n",
              "\n",
              "\n",
              "<div id=\"df-cbf84963-eb78-4334-9e6c-f887d83a70bf\">\n",
              "  <button class=\"colab-df-quickchart\" onclick=\"quickchart('df-cbf84963-eb78-4334-9e6c-f887d83a70bf')\"\n",
              "            title=\"Suggest charts\"\n",
              "            style=\"display:none;\">\n",
              "\n",
              "<svg xmlns=\"http://www.w3.org/2000/svg\" height=\"24px\"viewBox=\"0 0 24 24\"\n",
              "     width=\"24px\">\n",
              "    <g>\n",
              "        <path d=\"M19 3H5c-1.1 0-2 .9-2 2v14c0 1.1.9 2 2 2h14c1.1 0 2-.9 2-2V5c0-1.1-.9-2-2-2zM9 17H7v-7h2v7zm4 0h-2V7h2v10zm4 0h-2v-4h2v4z\"/>\n",
              "    </g>\n",
              "</svg>\n",
              "  </button>\n",
              "\n",
              "<style>\n",
              "  .colab-df-quickchart {\n",
              "      --bg-color: #E8F0FE;\n",
              "      --fill-color: #1967D2;\n",
              "      --hover-bg-color: #E2EBFA;\n",
              "      --hover-fill-color: #174EA6;\n",
              "      --disabled-fill-color: #AAA;\n",
              "      --disabled-bg-color: #DDD;\n",
              "  }\n",
              "\n",
              "  [theme=dark] .colab-df-quickchart {\n",
              "      --bg-color: #3B4455;\n",
              "      --fill-color: #D2E3FC;\n",
              "      --hover-bg-color: #434B5C;\n",
              "      --hover-fill-color: #FFFFFF;\n",
              "      --disabled-bg-color: #3B4455;\n",
              "      --disabled-fill-color: #666;\n",
              "  }\n",
              "\n",
              "  .colab-df-quickchart {\n",
              "    background-color: var(--bg-color);\n",
              "    border: none;\n",
              "    border-radius: 50%;\n",
              "    cursor: pointer;\n",
              "    display: none;\n",
              "    fill: var(--fill-color);\n",
              "    height: 32px;\n",
              "    padding: 0;\n",
              "    width: 32px;\n",
              "  }\n",
              "\n",
              "  .colab-df-quickchart:hover {\n",
              "    background-color: var(--hover-bg-color);\n",
              "    box-shadow: 0 1px 2px rgba(60, 64, 67, 0.3), 0 1px 3px 1px rgba(60, 64, 67, 0.15);\n",
              "    fill: var(--button-hover-fill-color);\n",
              "  }\n",
              "\n",
              "  .colab-df-quickchart-complete:disabled,\n",
              "  .colab-df-quickchart-complete:disabled:hover {\n",
              "    background-color: var(--disabled-bg-color);\n",
              "    fill: var(--disabled-fill-color);\n",
              "    box-shadow: none;\n",
              "  }\n",
              "\n",
              "  .colab-df-spinner {\n",
              "    border: 2px solid var(--fill-color);\n",
              "    border-color: transparent;\n",
              "    border-bottom-color: var(--fill-color);\n",
              "    animation:\n",
              "      spin 1s steps(1) infinite;\n",
              "  }\n",
              "\n",
              "  @keyframes spin {\n",
              "    0% {\n",
              "      border-color: transparent;\n",
              "      border-bottom-color: var(--fill-color);\n",
              "      border-left-color: var(--fill-color);\n",
              "    }\n",
              "    20% {\n",
              "      border-color: transparent;\n",
              "      border-left-color: var(--fill-color);\n",
              "      border-top-color: var(--fill-color);\n",
              "    }\n",
              "    30% {\n",
              "      border-color: transparent;\n",
              "      border-left-color: var(--fill-color);\n",
              "      border-top-color: var(--fill-color);\n",
              "      border-right-color: var(--fill-color);\n",
              "    }\n",
              "    40% {\n",
              "      border-color: transparent;\n",
              "      border-right-color: var(--fill-color);\n",
              "      border-top-color: var(--fill-color);\n",
              "    }\n",
              "    60% {\n",
              "      border-color: transparent;\n",
              "      border-right-color: var(--fill-color);\n",
              "    }\n",
              "    80% {\n",
              "      border-color: transparent;\n",
              "      border-right-color: var(--fill-color);\n",
              "      border-bottom-color: var(--fill-color);\n",
              "    }\n",
              "    90% {\n",
              "      border-color: transparent;\n",
              "      border-bottom-color: var(--fill-color);\n",
              "    }\n",
              "  }\n",
              "</style>\n",
              "\n",
              "  <script>\n",
              "    async function quickchart(key) {\n",
              "      const quickchartButtonEl =\n",
              "        document.querySelector('#' + key + ' button');\n",
              "      quickchartButtonEl.disabled = true;  // To prevent multiple clicks.\n",
              "      quickchartButtonEl.classList.add('colab-df-spinner');\n",
              "      try {\n",
              "        const charts = await google.colab.kernel.invokeFunction(\n",
              "            'suggestCharts', [key], {});\n",
              "      } catch (error) {\n",
              "        console.error('Error during call to suggestCharts:', error);\n",
              "      }\n",
              "      quickchartButtonEl.classList.remove('colab-df-spinner');\n",
              "      quickchartButtonEl.classList.add('colab-df-quickchart-complete');\n",
              "    }\n",
              "    (() => {\n",
              "      let quickchartButtonEl =\n",
              "        document.querySelector('#df-cbf84963-eb78-4334-9e6c-f887d83a70bf button');\n",
              "      quickchartButtonEl.style.display =\n",
              "        google.colab.kernel.accessAllowed ? 'block' : 'none';\n",
              "    })();\n",
              "  </script>\n",
              "</div>\n",
              "    </div>\n",
              "  </div>\n"
            ],
            "application/vnd.google.colaboratory.intrinsic+json": {
              "type": "dataframe",
              "variable_name": "women",
              "summary": "{\n  \"name\": \"women\",\n  \"rows\": 736,\n  \"fields\": [\n    {\n      \"column\": \"Unnamed: 0\",\n      \"properties\": {\n        \"dtype\": \"number\",\n        \"std\": 212,\n        \"min\": 0,\n        \"max\": 735,\n        \"num_unique_values\": 736,\n        \"samples\": [\n          669,\n          33,\n          549\n        ],\n        \"semantic_type\": \"\",\n        \"description\": \"\"\n      }\n    },\n    {\n      \"column\": \"State\",\n      \"properties\": {\n        \"dtype\": \"category\",\n        \"num_unique_values\": 70,\n        \"samples\": [\n          \"SIKKIM\",\n          \"ANDHRA PRADESH\",\n          \"Manipur\"\n        ],\n        \"semantic_type\": \"\",\n        \"description\": \"\"\n      }\n    },\n    {\n      \"column\": \"Year\",\n      \"properties\": {\n        \"dtype\": \"number\",\n        \"std\": 6,\n        \"min\": 2001,\n        \"max\": 2021,\n        \"num_unique_values\": 21,\n        \"samples\": [\n          2001,\n          2018,\n          2016\n        ],\n        \"semantic_type\": \"\",\n        \"description\": \"\"\n      }\n    },\n    {\n      \"column\": \"Rape\",\n      \"properties\": {\n        \"dtype\": \"number\",\n        \"std\": 977,\n        \"min\": 0,\n        \"max\": 6337,\n        \"num_unique_values\": 498,\n        \"samples\": [\n          2496,\n          1268,\n          720\n        ],\n        \"semantic_type\": \"\",\n        \"description\": \"\"\n      }\n    },\n    {\n      \"column\": \"K&A\",\n      \"properties\": {\n        \"dtype\": \"number\",\n        \"std\": 1993,\n        \"min\": 0,\n        \"max\": 15381,\n        \"num_unique_values\": 491,\n        \"samples\": [\n          281,\n          997,\n          1056\n        ],\n        \"semantic_type\": \"\",\n        \"description\": \"\"\n      }\n    },\n    {\n      \"column\": \"DD\",\n      \"properties\": {\n        \"dtype\": \"number\",\n        \"std\": 424,\n        \"min\": 0,\n        \"max\": 2524,\n        \"num_unique_values\": 319,\n        \"samples\": [\n          751,\n          395,\n          449\n        ],\n        \"semantic_type\": \"\",\n        \"description\": \"\"\n      }\n    },\n    {\n      \"column\": \"AoW\",\n      \"properties\": {\n        \"dtype\": \"number\",\n        \"std\": 2463,\n        \"min\": 0,\n        \"max\": 14853,\n        \"num_unique_values\": 505,\n        \"samples\": [\n          853,\n          2978,\n          5105\n        ],\n        \"semantic_type\": \"\",\n        \"description\": \"\"\n      }\n    },\n    {\n      \"column\": \"AoM\",\n      \"properties\": {\n        \"dtype\": \"number\",\n        \"std\": 806,\n        \"min\": 0,\n        \"max\": 9422,\n        \"num_unique_values\": 322,\n        \"samples\": [\n          93,\n          605,\n          180\n        ],\n        \"semantic_type\": \"\",\n        \"description\": \"\"\n      }\n    },\n    {\n      \"column\": \"DV\",\n      \"properties\": {\n        \"dtype\": \"number\",\n        \"std\": 4042,\n        \"min\": 0,\n        \"max\": 23278,\n        \"num_unique_values\": 488,\n        \"samples\": [\n          1,\n          239,\n          18432\n        ],\n        \"semantic_type\": \"\",\n        \"description\": \"\"\n      }\n    },\n    {\n      \"column\": \"WT\",\n      \"properties\": {\n        \"dtype\": \"number\",\n        \"std\": 79,\n        \"min\": 0,\n        \"max\": 549,\n        \"num_unique_values\": 124,\n        \"samples\": [\n          22,\n          40,\n          420\n        ],\n        \"semantic_type\": \"\",\n        \"description\": \"\"\n      }\n    }\n  ]\n}"
            }
          },
          "metadata": {},
          "execution_count": 11
        }
      ],
      "source": [
        "# Load dataset here\n",
        "women = pd.read_csv(\"/content/CrimesOnWomenData.csv\")\n",
        "women"
      ]
    },
    {
      "cell_type": "markdown",
      "id": "1026e8c6-513a-41e3-b2f4-68aae18b8435",
      "metadata": {
        "id": "1026e8c6-513a-41e3-b2f4-68aae18b8435"
      },
      "source": [
        "1. За какие года представлен набор данных?"
      ]
    },
    {
      "cell_type": "code",
      "execution_count": null,
      "id": "e74655aa-b97c-42e5-b972-e0753ddc2331",
      "metadata": {
        "id": "e74655aa-b97c-42e5-b972-e0753ddc2331",
        "colab": {
          "base_uri": "https://localhost:8080/"
        },
        "outputId": "8a753527-98dc-4bcc-e807-6743f100f61b"
      },
      "outputs": [
        {
          "output_type": "execute_result",
          "data": {
            "text/plain": [
              "array([2021, 2020, 2019, 2018, 2017, 2016, 2015, 2014, 2013, 2012, 2011,\n",
              "       2010, 2009, 2008, 2007, 2006, 2005, 2004, 2003, 2002, 2001])"
            ]
          },
          "metadata": {},
          "execution_count": 126
        }
      ],
      "source": [
        "# minim = women[\"Year\"].min()\n",
        "# print(minim)\n",
        "# maxim = women[\"Year\"].max()\n",
        "# print(maxim)\n",
        "women[\"Year\"].unique()"
      ]
    },
    {
      "cell_type": "markdown",
      "id": "eee028a5-9311-4a4f-b4ac-1fb75acfb4b3",
      "metadata": {
        "id": "eee028a5-9311-4a4f-b4ac-1fb75acfb4b3"
      },
      "source": [
        "2. Выявите район с самым высоким количеством убийств женщин"
      ]
    },
    {
      "cell_type": "code",
      "execution_count": null,
      "id": "ac0fb641-96d2-4e7c-88d5-636ce3b699d2",
      "metadata": {
        "id": "ac0fb641-96d2-4e7c-88d5-636ce3b699d2",
        "colab": {
          "base_uri": "https://localhost:8080/",
          "height": 115
        },
        "outputId": "7b20f56b-ad17-491e-ee22-1191be46ed21"
      },
      "outputs": [
        {
          "output_type": "execute_result",
          "data": {
            "text/plain": [
              "582    Uttar Pradesh\n",
              "Name: State, dtype: object"
            ],
            "text/html": [
              "<div>\n",
              "<style scoped>\n",
              "    .dataframe tbody tr th:only-of-type {\n",
              "        vertical-align: middle;\n",
              "    }\n",
              "\n",
              "    .dataframe tbody tr th {\n",
              "        vertical-align: top;\n",
              "    }\n",
              "\n",
              "    .dataframe thead th {\n",
              "        text-align: right;\n",
              "    }\n",
              "</style>\n",
              "<table border=\"1\" class=\"dataframe\">\n",
              "  <thead>\n",
              "    <tr style=\"text-align: right;\">\n",
              "      <th></th>\n",
              "      <th>State</th>\n",
              "    </tr>\n",
              "  </thead>\n",
              "  <tbody>\n",
              "    <tr>\n",
              "      <th>582</th>\n",
              "      <td>Uttar Pradesh</td>\n",
              "    </tr>\n",
              "  </tbody>\n",
              "</table>\n",
              "</div><br><label><b>dtype:</b> object</label>"
            ]
          },
          "metadata": {},
          "execution_count": 173
        }
      ],
      "source": [
        "women.sort_values(by=\"DD\", ascending=False)[\"State\"].head(1)"
      ]
    },
    {
      "cell_type": "markdown",
      "id": "cd7979ba-2fa8-4fd3-986d-26cee122da1f",
      "metadata": {
        "id": "cd7979ba-2fa8-4fd3-986d-26cee122da1f"
      },
      "source": [
        "3. Какое среднее число изнасилований женщин в индии наблюдалось в указанные года?"
      ]
    },
    {
      "cell_type": "code",
      "execution_count": null,
      "id": "3915f77b-116c-482b-8644-2f5f11931af9",
      "metadata": {
        "id": "3915f77b-116c-482b-8644-2f5f11931af9",
        "colab": {
          "base_uri": "https://localhost:8080/"
        },
        "outputId": "51202264-658f-473b-bb6e-378d5dcdd7d6"
      },
      "outputs": [
        {
          "output_type": "execute_result",
          "data": {
            "text/plain": [
              "727.8559782608696"
            ]
          },
          "metadata": {},
          "execution_count": 133
        }
      ],
      "source": [
        "women['Rape'].mean()"
      ]
    },
    {
      "cell_type": "markdown",
      "id": "1b69ba67-61a8-4765-9795-cfab1a09e929",
      "metadata": {
        "id": "1b69ba67-61a8-4765-9795-cfab1a09e929"
      },
      "source": [
        "4. Выявите район с минимальным числом похищений за период 2001-2003 года"
      ]
    },
    {
      "cell_type": "code",
      "execution_count": null,
      "id": "1228d2e9-fc56-4240-95c6-c98a8b84c016",
      "metadata": {
        "id": "1228d2e9-fc56-4240-95c6-c98a8b84c016",
        "colab": {
          "base_uri": "https://localhost:8080/",
          "height": 81
        },
        "outputId": "dd2060e8-2079-486d-f6cd-aeaac12b9f48"
      },
      "outputs": [
        {
          "output_type": "execute_result",
          "data": {
            "text/plain": [
              "          State  K&A\n",
              "32  LAKSHADWEEP    0"
            ],
            "text/html": [
              "\n",
              "  <div id=\"df-cd2f4577-ed54-4333-869d-b206bc891af1\" class=\"colab-df-container\">\n",
              "    <div>\n",
              "<style scoped>\n",
              "    .dataframe tbody tr th:only-of-type {\n",
              "        vertical-align: middle;\n",
              "    }\n",
              "\n",
              "    .dataframe tbody tr th {\n",
              "        vertical-align: top;\n",
              "    }\n",
              "\n",
              "    .dataframe thead th {\n",
              "        text-align: right;\n",
              "    }\n",
              "</style>\n",
              "<table border=\"1\" class=\"dataframe\">\n",
              "  <thead>\n",
              "    <tr style=\"text-align: right;\">\n",
              "      <th></th>\n",
              "      <th>State</th>\n",
              "      <th>K&amp;A</th>\n",
              "    </tr>\n",
              "  </thead>\n",
              "  <tbody>\n",
              "    <tr>\n",
              "      <th>32</th>\n",
              "      <td>LAKSHADWEEP</td>\n",
              "      <td>0</td>\n",
              "    </tr>\n",
              "  </tbody>\n",
              "</table>\n",
              "</div>\n",
              "    <div class=\"colab-df-buttons\">\n",
              "\n",
              "  <div class=\"colab-df-container\">\n",
              "    <button class=\"colab-df-convert\" onclick=\"convertToInteractive('df-cd2f4577-ed54-4333-869d-b206bc891af1')\"\n",
              "            title=\"Convert this dataframe to an interactive table.\"\n",
              "            style=\"display:none;\">\n",
              "\n",
              "  <svg xmlns=\"http://www.w3.org/2000/svg\" height=\"24px\" viewBox=\"0 -960 960 960\">\n",
              "    <path d=\"M120-120v-720h720v720H120Zm60-500h600v-160H180v160Zm220 220h160v-160H400v160Zm0 220h160v-160H400v160ZM180-400h160v-160H180v160Zm440 0h160v-160H620v160ZM180-180h160v-160H180v160Zm440 0h160v-160H620v160Z\"/>\n",
              "  </svg>\n",
              "    </button>\n",
              "\n",
              "  <style>\n",
              "    .colab-df-container {\n",
              "      display:flex;\n",
              "      gap: 12px;\n",
              "    }\n",
              "\n",
              "    .colab-df-convert {\n",
              "      background-color: #E8F0FE;\n",
              "      border: none;\n",
              "      border-radius: 50%;\n",
              "      cursor: pointer;\n",
              "      display: none;\n",
              "      fill: #1967D2;\n",
              "      height: 32px;\n",
              "      padding: 0 0 0 0;\n",
              "      width: 32px;\n",
              "    }\n",
              "\n",
              "    .colab-df-convert:hover {\n",
              "      background-color: #E2EBFA;\n",
              "      box-shadow: 0px 1px 2px rgba(60, 64, 67, 0.3), 0px 1px 3px 1px rgba(60, 64, 67, 0.15);\n",
              "      fill: #174EA6;\n",
              "    }\n",
              "\n",
              "    .colab-df-buttons div {\n",
              "      margin-bottom: 4px;\n",
              "    }\n",
              "\n",
              "    [theme=dark] .colab-df-convert {\n",
              "      background-color: #3B4455;\n",
              "      fill: #D2E3FC;\n",
              "    }\n",
              "\n",
              "    [theme=dark] .colab-df-convert:hover {\n",
              "      background-color: #434B5C;\n",
              "      box-shadow: 0px 1px 3px 1px rgba(0, 0, 0, 0.15);\n",
              "      filter: drop-shadow(0px 1px 2px rgba(0, 0, 0, 0.3));\n",
              "      fill: #FFFFFF;\n",
              "    }\n",
              "  </style>\n",
              "\n",
              "    <script>\n",
              "      const buttonEl =\n",
              "        document.querySelector('#df-cd2f4577-ed54-4333-869d-b206bc891af1 button.colab-df-convert');\n",
              "      buttonEl.style.display =\n",
              "        google.colab.kernel.accessAllowed ? 'block' : 'none';\n",
              "\n",
              "      async function convertToInteractive(key) {\n",
              "        const element = document.querySelector('#df-cd2f4577-ed54-4333-869d-b206bc891af1');\n",
              "        const dataTable =\n",
              "          await google.colab.kernel.invokeFunction('convertToInteractive',\n",
              "                                                    [key], {});\n",
              "        if (!dataTable) return;\n",
              "\n",
              "        const docLinkHtml = 'Like what you see? Visit the ' +\n",
              "          '<a target=\"_blank\" href=https://colab.research.google.com/notebooks/data_table.ipynb>data table notebook</a>'\n",
              "          + ' to learn more about interactive tables.';\n",
              "        element.innerHTML = '';\n",
              "        dataTable['output_type'] = 'display_data';\n",
              "        await google.colab.output.renderOutput(dataTable, element);\n",
              "        const docLink = document.createElement('div');\n",
              "        docLink.innerHTML = docLinkHtml;\n",
              "        element.appendChild(docLink);\n",
              "      }\n",
              "    </script>\n",
              "  </div>\n",
              "\n",
              "    </div>\n",
              "  </div>\n"
            ],
            "application/vnd.google.colaboratory.intrinsic+json": {
              "type": "dataframe",
              "summary": "{\n  \"name\": \"w2001\",\n  \"rows\": 1,\n  \"fields\": [\n    {\n      \"column\": \"State\",\n      \"properties\": {\n        \"dtype\": \"string\",\n        \"num_unique_values\": 1,\n        \"samples\": [\n          \"LAKSHADWEEP\"\n        ],\n        \"semantic_type\": \"\",\n        \"description\": \"\"\n      }\n    },\n    {\n      \"column\": \"K&A\",\n      \"properties\": {\n        \"dtype\": \"number\",\n        \"std\": null,\n        \"min\": 0,\n        \"max\": 0,\n        \"num_unique_values\": 1,\n        \"samples\": [\n          0\n        ],\n        \"semantic_type\": \"\",\n        \"description\": \"\"\n      }\n    }\n  ]\n}"
            }
          },
          "metadata": {},
          "execution_count": 161
        }
      ],
      "source": [
        "w2001 = women[(2001 <= women[\"Year\"]) & (women[\"Year\"] <= 2003)][[\"State\", \"K&A\"]]\n",
        "w2001.sort_values(by=\"K&A\", ascending=True).head(1)"
      ]
    },
    {
      "cell_type": "markdown",
      "id": "5acec4fd-f740-49a8-a5d8-562d358239c9",
      "metadata": {
        "id": "5acec4fd-f740-49a8-a5d8-562d358239c9"
      },
      "source": [
        "5. Перечислите районы в которых наблюдались наиболее частые случае домашнего насилия за период с 2005 по 2012 года"
      ]
    },
    {
      "cell_type": "code",
      "execution_count": null,
      "id": "cac8daef-f4e8-4c8b-b7f4-d41a6adf35ed",
      "metadata": {
        "id": "cac8daef-f4e8-4c8b-b7f4-d41a6adf35ed",
        "colab": {
          "base_uri": "https://localhost:8080/",
          "height": 519
        },
        "outputId": "b77dc42d-64eb-4453-d172-0a073eae8f06"
      },
      "outputs": [
        {
          "output_type": "execute_result",
          "data": {
            "text/plain": [
              "              State     DV\n",
              "404     West Bengal  19865\n",
              "368     West Bengal  19772\n",
              "333     WEST BENGAL  17796\n",
              "299     WEST BENGAL  16112\n",
              "265     WEST BENGAL  13663\n",
              "376  Andhra Pradesh  13389\n",
              "340  Andhra Pradesh  13376\n",
              "397       Rajasthan  13312\n",
              "361       Rajasthan  12218\n",
              "306  ANDHRA PRADESH  12080\n",
              "204  ANDHRA PRADESH  11335\n",
              "272  ANDHRA PRADESH  11297\n",
              "327       RAJASTHAN  11145\n",
              "293       RAJASTHAN  10371\n",
              "238  ANDHRA PRADESH  10306"
            ],
            "text/html": [
              "\n",
              "  <div id=\"df-146b0dfc-c896-4799-a9c5-22cd3349644f\" class=\"colab-df-container\">\n",
              "    <div>\n",
              "<style scoped>\n",
              "    .dataframe tbody tr th:only-of-type {\n",
              "        vertical-align: middle;\n",
              "    }\n",
              "\n",
              "    .dataframe tbody tr th {\n",
              "        vertical-align: top;\n",
              "    }\n",
              "\n",
              "    .dataframe thead th {\n",
              "        text-align: right;\n",
              "    }\n",
              "</style>\n",
              "<table border=\"1\" class=\"dataframe\">\n",
              "  <thead>\n",
              "    <tr style=\"text-align: right;\">\n",
              "      <th></th>\n",
              "      <th>State</th>\n",
              "      <th>DV</th>\n",
              "    </tr>\n",
              "  </thead>\n",
              "  <tbody>\n",
              "    <tr>\n",
              "      <th>404</th>\n",
              "      <td>West Bengal</td>\n",
              "      <td>19865</td>\n",
              "    </tr>\n",
              "    <tr>\n",
              "      <th>368</th>\n",
              "      <td>West Bengal</td>\n",
              "      <td>19772</td>\n",
              "    </tr>\n",
              "    <tr>\n",
              "      <th>333</th>\n",
              "      <td>WEST BENGAL</td>\n",
              "      <td>17796</td>\n",
              "    </tr>\n",
              "    <tr>\n",
              "      <th>299</th>\n",
              "      <td>WEST BENGAL</td>\n",
              "      <td>16112</td>\n",
              "    </tr>\n",
              "    <tr>\n",
              "      <th>265</th>\n",
              "      <td>WEST BENGAL</td>\n",
              "      <td>13663</td>\n",
              "    </tr>\n",
              "    <tr>\n",
              "      <th>376</th>\n",
              "      <td>Andhra Pradesh</td>\n",
              "      <td>13389</td>\n",
              "    </tr>\n",
              "    <tr>\n",
              "      <th>340</th>\n",
              "      <td>Andhra Pradesh</td>\n",
              "      <td>13376</td>\n",
              "    </tr>\n",
              "    <tr>\n",
              "      <th>397</th>\n",
              "      <td>Rajasthan</td>\n",
              "      <td>13312</td>\n",
              "    </tr>\n",
              "    <tr>\n",
              "      <th>361</th>\n",
              "      <td>Rajasthan</td>\n",
              "      <td>12218</td>\n",
              "    </tr>\n",
              "    <tr>\n",
              "      <th>306</th>\n",
              "      <td>ANDHRA PRADESH</td>\n",
              "      <td>12080</td>\n",
              "    </tr>\n",
              "    <tr>\n",
              "      <th>204</th>\n",
              "      <td>ANDHRA PRADESH</td>\n",
              "      <td>11335</td>\n",
              "    </tr>\n",
              "    <tr>\n",
              "      <th>272</th>\n",
              "      <td>ANDHRA PRADESH</td>\n",
              "      <td>11297</td>\n",
              "    </tr>\n",
              "    <tr>\n",
              "      <th>327</th>\n",
              "      <td>RAJASTHAN</td>\n",
              "      <td>11145</td>\n",
              "    </tr>\n",
              "    <tr>\n",
              "      <th>293</th>\n",
              "      <td>RAJASTHAN</td>\n",
              "      <td>10371</td>\n",
              "    </tr>\n",
              "    <tr>\n",
              "      <th>238</th>\n",
              "      <td>ANDHRA PRADESH</td>\n",
              "      <td>10306</td>\n",
              "    </tr>\n",
              "  </tbody>\n",
              "</table>\n",
              "</div>\n",
              "    <div class=\"colab-df-buttons\">\n",
              "\n",
              "  <div class=\"colab-df-container\">\n",
              "    <button class=\"colab-df-convert\" onclick=\"convertToInteractive('df-146b0dfc-c896-4799-a9c5-22cd3349644f')\"\n",
              "            title=\"Convert this dataframe to an interactive table.\"\n",
              "            style=\"display:none;\">\n",
              "\n",
              "  <svg xmlns=\"http://www.w3.org/2000/svg\" height=\"24px\" viewBox=\"0 -960 960 960\">\n",
              "    <path d=\"M120-120v-720h720v720H120Zm60-500h600v-160H180v160Zm220 220h160v-160H400v160Zm0 220h160v-160H400v160ZM180-400h160v-160H180v160Zm440 0h160v-160H620v160ZM180-180h160v-160H180v160Zm440 0h160v-160H620v160Z\"/>\n",
              "  </svg>\n",
              "    </button>\n",
              "\n",
              "  <style>\n",
              "    .colab-df-container {\n",
              "      display:flex;\n",
              "      gap: 12px;\n",
              "    }\n",
              "\n",
              "    .colab-df-convert {\n",
              "      background-color: #E8F0FE;\n",
              "      border: none;\n",
              "      border-radius: 50%;\n",
              "      cursor: pointer;\n",
              "      display: none;\n",
              "      fill: #1967D2;\n",
              "      height: 32px;\n",
              "      padding: 0 0 0 0;\n",
              "      width: 32px;\n",
              "    }\n",
              "\n",
              "    .colab-df-convert:hover {\n",
              "      background-color: #E2EBFA;\n",
              "      box-shadow: 0px 1px 2px rgba(60, 64, 67, 0.3), 0px 1px 3px 1px rgba(60, 64, 67, 0.15);\n",
              "      fill: #174EA6;\n",
              "    }\n",
              "\n",
              "    .colab-df-buttons div {\n",
              "      margin-bottom: 4px;\n",
              "    }\n",
              "\n",
              "    [theme=dark] .colab-df-convert {\n",
              "      background-color: #3B4455;\n",
              "      fill: #D2E3FC;\n",
              "    }\n",
              "\n",
              "    [theme=dark] .colab-df-convert:hover {\n",
              "      background-color: #434B5C;\n",
              "      box-shadow: 0px 1px 3px 1px rgba(0, 0, 0, 0.15);\n",
              "      filter: drop-shadow(0px 1px 2px rgba(0, 0, 0, 0.3));\n",
              "      fill: #FFFFFF;\n",
              "    }\n",
              "  </style>\n",
              "\n",
              "    <script>\n",
              "      const buttonEl =\n",
              "        document.querySelector('#df-146b0dfc-c896-4799-a9c5-22cd3349644f button.colab-df-convert');\n",
              "      buttonEl.style.display =\n",
              "        google.colab.kernel.accessAllowed ? 'block' : 'none';\n",
              "\n",
              "      async function convertToInteractive(key) {\n",
              "        const element = document.querySelector('#df-146b0dfc-c896-4799-a9c5-22cd3349644f');\n",
              "        const dataTable =\n",
              "          await google.colab.kernel.invokeFunction('convertToInteractive',\n",
              "                                                    [key], {});\n",
              "        if (!dataTable) return;\n",
              "\n",
              "        const docLinkHtml = 'Like what you see? Visit the ' +\n",
              "          '<a target=\"_blank\" href=https://colab.research.google.com/notebooks/data_table.ipynb>data table notebook</a>'\n",
              "          + ' to learn more about interactive tables.';\n",
              "        element.innerHTML = '';\n",
              "        dataTable['output_type'] = 'display_data';\n",
              "        await google.colab.output.renderOutput(dataTable, element);\n",
              "        const docLink = document.createElement('div');\n",
              "        docLink.innerHTML = docLinkHtml;\n",
              "        element.appendChild(docLink);\n",
              "      }\n",
              "    </script>\n",
              "  </div>\n",
              "\n",
              "\n",
              "<div id=\"df-e4266e09-0147-4fcc-815b-c97c920bc80d\">\n",
              "  <button class=\"colab-df-quickchart\" onclick=\"quickchart('df-e4266e09-0147-4fcc-815b-c97c920bc80d')\"\n",
              "            title=\"Suggest charts\"\n",
              "            style=\"display:none;\">\n",
              "\n",
              "<svg xmlns=\"http://www.w3.org/2000/svg\" height=\"24px\"viewBox=\"0 0 24 24\"\n",
              "     width=\"24px\">\n",
              "    <g>\n",
              "        <path d=\"M19 3H5c-1.1 0-2 .9-2 2v14c0 1.1.9 2 2 2h14c1.1 0 2-.9 2-2V5c0-1.1-.9-2-2-2zM9 17H7v-7h2v7zm4 0h-2V7h2v10zm4 0h-2v-4h2v4z\"/>\n",
              "    </g>\n",
              "</svg>\n",
              "  </button>\n",
              "\n",
              "<style>\n",
              "  .colab-df-quickchart {\n",
              "      --bg-color: #E8F0FE;\n",
              "      --fill-color: #1967D2;\n",
              "      --hover-bg-color: #E2EBFA;\n",
              "      --hover-fill-color: #174EA6;\n",
              "      --disabled-fill-color: #AAA;\n",
              "      --disabled-bg-color: #DDD;\n",
              "  }\n",
              "\n",
              "  [theme=dark] .colab-df-quickchart {\n",
              "      --bg-color: #3B4455;\n",
              "      --fill-color: #D2E3FC;\n",
              "      --hover-bg-color: #434B5C;\n",
              "      --hover-fill-color: #FFFFFF;\n",
              "      --disabled-bg-color: #3B4455;\n",
              "      --disabled-fill-color: #666;\n",
              "  }\n",
              "\n",
              "  .colab-df-quickchart {\n",
              "    background-color: var(--bg-color);\n",
              "    border: none;\n",
              "    border-radius: 50%;\n",
              "    cursor: pointer;\n",
              "    display: none;\n",
              "    fill: var(--fill-color);\n",
              "    height: 32px;\n",
              "    padding: 0;\n",
              "    width: 32px;\n",
              "  }\n",
              "\n",
              "  .colab-df-quickchart:hover {\n",
              "    background-color: var(--hover-bg-color);\n",
              "    box-shadow: 0 1px 2px rgba(60, 64, 67, 0.3), 0 1px 3px 1px rgba(60, 64, 67, 0.15);\n",
              "    fill: var(--button-hover-fill-color);\n",
              "  }\n",
              "\n",
              "  .colab-df-quickchart-complete:disabled,\n",
              "  .colab-df-quickchart-complete:disabled:hover {\n",
              "    background-color: var(--disabled-bg-color);\n",
              "    fill: var(--disabled-fill-color);\n",
              "    box-shadow: none;\n",
              "  }\n",
              "\n",
              "  .colab-df-spinner {\n",
              "    border: 2px solid var(--fill-color);\n",
              "    border-color: transparent;\n",
              "    border-bottom-color: var(--fill-color);\n",
              "    animation:\n",
              "      spin 1s steps(1) infinite;\n",
              "  }\n",
              "\n",
              "  @keyframes spin {\n",
              "    0% {\n",
              "      border-color: transparent;\n",
              "      border-bottom-color: var(--fill-color);\n",
              "      border-left-color: var(--fill-color);\n",
              "    }\n",
              "    20% {\n",
              "      border-color: transparent;\n",
              "      border-left-color: var(--fill-color);\n",
              "      border-top-color: var(--fill-color);\n",
              "    }\n",
              "    30% {\n",
              "      border-color: transparent;\n",
              "      border-left-color: var(--fill-color);\n",
              "      border-top-color: var(--fill-color);\n",
              "      border-right-color: var(--fill-color);\n",
              "    }\n",
              "    40% {\n",
              "      border-color: transparent;\n",
              "      border-right-color: var(--fill-color);\n",
              "      border-top-color: var(--fill-color);\n",
              "    }\n",
              "    60% {\n",
              "      border-color: transparent;\n",
              "      border-right-color: var(--fill-color);\n",
              "    }\n",
              "    80% {\n",
              "      border-color: transparent;\n",
              "      border-right-color: var(--fill-color);\n",
              "      border-bottom-color: var(--fill-color);\n",
              "    }\n",
              "    90% {\n",
              "      border-color: transparent;\n",
              "      border-bottom-color: var(--fill-color);\n",
              "    }\n",
              "  }\n",
              "</style>\n",
              "\n",
              "  <script>\n",
              "    async function quickchart(key) {\n",
              "      const quickchartButtonEl =\n",
              "        document.querySelector('#' + key + ' button');\n",
              "      quickchartButtonEl.disabled = true;  // To prevent multiple clicks.\n",
              "      quickchartButtonEl.classList.add('colab-df-spinner');\n",
              "      try {\n",
              "        const charts = await google.colab.kernel.invokeFunction(\n",
              "            'suggestCharts', [key], {});\n",
              "      } catch (error) {\n",
              "        console.error('Error during call to suggestCharts:', error);\n",
              "      }\n",
              "      quickchartButtonEl.classList.remove('colab-df-spinner');\n",
              "      quickchartButtonEl.classList.add('colab-df-quickchart-complete');\n",
              "    }\n",
              "    (() => {\n",
              "      let quickchartButtonEl =\n",
              "        document.querySelector('#df-e4266e09-0147-4fcc-815b-c97c920bc80d button');\n",
              "      quickchartButtonEl.style.display =\n",
              "        google.colab.kernel.accessAllowed ? 'block' : 'none';\n",
              "    })();\n",
              "  </script>\n",
              "</div>\n",
              "    </div>\n",
              "  </div>\n"
            ],
            "application/vnd.google.colaboratory.intrinsic+json": {
              "type": "dataframe",
              "summary": "{\n  \"name\": \"w\",\n  \"rows\": 15,\n  \"fields\": [\n    {\n      \"column\": \"State\",\n      \"properties\": {\n        \"dtype\": \"category\",\n        \"num_unique_values\": 6,\n        \"samples\": [\n          \"West Bengal\",\n          \"WEST BENGAL\",\n          \"RAJASTHAN\"\n        ],\n        \"semantic_type\": \"\",\n        \"description\": \"\"\n      }\n    },\n    {\n      \"column\": \"DV\",\n      \"properties\": {\n        \"dtype\": \"number\",\n        \"std\": 3197,\n        \"min\": 10306,\n        \"max\": 19865,\n        \"num_unique_values\": 15,\n        \"samples\": [\n          12080,\n          11297,\n          19865\n        ],\n        \"semantic_type\": \"\",\n        \"description\": \"\"\n      }\n    }\n  ]\n}"
            }
          },
          "metadata": {},
          "execution_count": 166
        }
      ],
      "source": [
        "w = women[(2005 <= women[\"Year\"]) & (women[\"Year\"] <= 2012)][[\"State\", \"DV\"]]\n",
        "w.sort_values(by=\"DV\", ascending=False).head(15)"
      ]
    },
    {
      "cell_type": "markdown",
      "id": "8d6171a9-0f75-4f3e-ac54-95d03d1f70b6",
      "metadata": {
        "id": "8d6171a9-0f75-4f3e-ac54-95d03d1f70b6"
      },
      "source": [
        "6. Выведите названия районов в порядке не возрастания случаев торговли женщинами за 2020 год"
      ]
    },
    {
      "cell_type": "code",
      "execution_count": 21,
      "id": "c64d0892-2fb8-4304-966c-5cbb32b03c0a",
      "metadata": {
        "id": "c64d0892-2fb8-4304-966c-5cbb32b03c0a",
        "colab": {
          "base_uri": "https://localhost:8080/",
          "height": 1000
        },
        "outputId": "4951cf11-41c3-4933-c49e-9248aee19555"
      },
      "outputs": [
        {
          "output_type": "execute_result",
          "data": {
            "text/plain": [
              "686               Sikkim\n",
              "674            Jharkhand\n",
              "677       Madhya Pradesh\n",
              "684               Punjab\n",
              "691          Uttarakhand\n",
              "664       Andhra Pradesh\n",
              "670              Gujarat\n",
              "667                Bihar\n",
              "671              Haryana\n",
              "689              Tripura\n",
              "682             Nagaland\n",
              "666                Assam\n",
              "676               Kerala\n",
              "687           Tamil Nadu\n",
              "683               Odisha\n",
              "690        Uttar Pradesh\n",
              "675            Karnataka\n",
              "695           D&N Haveli\n",
              "668         Chhattisgarh\n",
              "673      Jammu & Kashmir\n",
              "681              Mizoram\n",
              "698          Lakshadweep\n",
              "697             Delhi UT\n",
              "696          Daman & Diu\n",
              "694           Chandigarh\n",
              "693        A & N Islands\n",
              "692          West Bengal\n",
              "678          Maharashtra\n",
              "665    Arunachal Pradesh\n",
              "688            Telangana\n",
              "679              Manipur\n",
              "669                  Goa\n",
              "685            Rajasthan\n",
              "672     Himachal Pradesh\n",
              "680            Meghalaya\n",
              "699           Puducherry\n",
              "Name: State, dtype: object"
            ],
            "text/html": [
              "<div>\n",
              "<style scoped>\n",
              "    .dataframe tbody tr th:only-of-type {\n",
              "        vertical-align: middle;\n",
              "    }\n",
              "\n",
              "    .dataframe tbody tr th {\n",
              "        vertical-align: top;\n",
              "    }\n",
              "\n",
              "    .dataframe thead th {\n",
              "        text-align: right;\n",
              "    }\n",
              "</style>\n",
              "<table border=\"1\" class=\"dataframe\">\n",
              "  <thead>\n",
              "    <tr style=\"text-align: right;\">\n",
              "      <th></th>\n",
              "      <th>State</th>\n",
              "    </tr>\n",
              "  </thead>\n",
              "  <tbody>\n",
              "    <tr>\n",
              "      <th>686</th>\n",
              "      <td>Sikkim</td>\n",
              "    </tr>\n",
              "    <tr>\n",
              "      <th>674</th>\n",
              "      <td>Jharkhand</td>\n",
              "    </tr>\n",
              "    <tr>\n",
              "      <th>677</th>\n",
              "      <td>Madhya Pradesh</td>\n",
              "    </tr>\n",
              "    <tr>\n",
              "      <th>684</th>\n",
              "      <td>Punjab</td>\n",
              "    </tr>\n",
              "    <tr>\n",
              "      <th>691</th>\n",
              "      <td>Uttarakhand</td>\n",
              "    </tr>\n",
              "    <tr>\n",
              "      <th>664</th>\n",
              "      <td>Andhra Pradesh</td>\n",
              "    </tr>\n",
              "    <tr>\n",
              "      <th>670</th>\n",
              "      <td>Gujarat</td>\n",
              "    </tr>\n",
              "    <tr>\n",
              "      <th>667</th>\n",
              "      <td>Bihar</td>\n",
              "    </tr>\n",
              "    <tr>\n",
              "      <th>671</th>\n",
              "      <td>Haryana</td>\n",
              "    </tr>\n",
              "    <tr>\n",
              "      <th>689</th>\n",
              "      <td>Tripura</td>\n",
              "    </tr>\n",
              "    <tr>\n",
              "      <th>682</th>\n",
              "      <td>Nagaland</td>\n",
              "    </tr>\n",
              "    <tr>\n",
              "      <th>666</th>\n",
              "      <td>Assam</td>\n",
              "    </tr>\n",
              "    <tr>\n",
              "      <th>676</th>\n",
              "      <td>Kerala</td>\n",
              "    </tr>\n",
              "    <tr>\n",
              "      <th>687</th>\n",
              "      <td>Tamil Nadu</td>\n",
              "    </tr>\n",
              "    <tr>\n",
              "      <th>683</th>\n",
              "      <td>Odisha</td>\n",
              "    </tr>\n",
              "    <tr>\n",
              "      <th>690</th>\n",
              "      <td>Uttar Pradesh</td>\n",
              "    </tr>\n",
              "    <tr>\n",
              "      <th>675</th>\n",
              "      <td>Karnataka</td>\n",
              "    </tr>\n",
              "    <tr>\n",
              "      <th>695</th>\n",
              "      <td>D&amp;N Haveli</td>\n",
              "    </tr>\n",
              "    <tr>\n",
              "      <th>668</th>\n",
              "      <td>Chhattisgarh</td>\n",
              "    </tr>\n",
              "    <tr>\n",
              "      <th>673</th>\n",
              "      <td>Jammu &amp; Kashmir</td>\n",
              "    </tr>\n",
              "    <tr>\n",
              "      <th>681</th>\n",
              "      <td>Mizoram</td>\n",
              "    </tr>\n",
              "    <tr>\n",
              "      <th>698</th>\n",
              "      <td>Lakshadweep</td>\n",
              "    </tr>\n",
              "    <tr>\n",
              "      <th>697</th>\n",
              "      <td>Delhi UT</td>\n",
              "    </tr>\n",
              "    <tr>\n",
              "      <th>696</th>\n",
              "      <td>Daman &amp; Diu</td>\n",
              "    </tr>\n",
              "    <tr>\n",
              "      <th>694</th>\n",
              "      <td>Chandigarh</td>\n",
              "    </tr>\n",
              "    <tr>\n",
              "      <th>693</th>\n",
              "      <td>A &amp; N Islands</td>\n",
              "    </tr>\n",
              "    <tr>\n",
              "      <th>692</th>\n",
              "      <td>West Bengal</td>\n",
              "    </tr>\n",
              "    <tr>\n",
              "      <th>678</th>\n",
              "      <td>Maharashtra</td>\n",
              "    </tr>\n",
              "    <tr>\n",
              "      <th>665</th>\n",
              "      <td>Arunachal Pradesh</td>\n",
              "    </tr>\n",
              "    <tr>\n",
              "      <th>688</th>\n",
              "      <td>Telangana</td>\n",
              "    </tr>\n",
              "    <tr>\n",
              "      <th>679</th>\n",
              "      <td>Manipur</td>\n",
              "    </tr>\n",
              "    <tr>\n",
              "      <th>669</th>\n",
              "      <td>Goa</td>\n",
              "    </tr>\n",
              "    <tr>\n",
              "      <th>685</th>\n",
              "      <td>Rajasthan</td>\n",
              "    </tr>\n",
              "    <tr>\n",
              "      <th>672</th>\n",
              "      <td>Himachal Pradesh</td>\n",
              "    </tr>\n",
              "    <tr>\n",
              "      <th>680</th>\n",
              "      <td>Meghalaya</td>\n",
              "    </tr>\n",
              "    <tr>\n",
              "      <th>699</th>\n",
              "      <td>Puducherry</td>\n",
              "    </tr>\n",
              "  </tbody>\n",
              "</table>\n",
              "</div><br><label><b>dtype:</b> object</label>"
            ]
          },
          "metadata": {},
          "execution_count": 21
        }
      ],
      "source": [
        "w = women[women[\"Year\"] == 2020][[\"State\", \"WT\"]]\n",
        "w.sort_values(by=\"WT\", ascending=False)[\"State\"]"
      ]
    },
    {
      "cell_type": "markdown",
      "id": "a24c2f59-eeaf-47fd-8224-1023d1a8edeb",
      "metadata": {
        "id": "a24c2f59-eeaf-47fd-8224-1023d1a8edeb"
      },
      "source": [
        "Перейдем к следующему набору данных.\n",
        "\n",
        "Файл: `CustomerPurchasingBehaviors.csv`\n",
        "\n",
        "Этот набор данных содержит информацию о профилях клиентов и их покупательском поведении. Данные содержат столбцы, содержащие идентификатор пользователя, возраст, годовой доход, сумму покупки, показатель лояльности (в разбивке по классам), регион и частоту покупок. Он предназначен для анализа тенденций сегментации клиентов и лояльности и может быть использован для различных задач машинного обучения и анализа данных, связанных с поведением клиентов и исследованиями рынка.\n",
        "\n",
        "```\n",
        "user_id - ID клиента\n",
        "age - Возраст\n",
        "annual_income - Годовой доход клиента (в долларах США).\n",
        "purchase_amount - Общая сумма покупок, совершенных клиентом (в долларах США).\n",
        "loyalty_score - Показатель лояльности клиента (значение от 0 до 100).\n",
        "region - Регион, в котором проживает клиент (Север, Юг, Восток, Запад).\n",
        "purchase_frequency - Частота покупок клиентов (количество раз в год).\n",
        "```"
      ]
    },
    {
      "cell_type": "code",
      "execution_count": 5,
      "id": "7407fc92-f656-44b4-bc3a-b86d0a8664ea",
      "metadata": {
        "id": "7407fc92-f656-44b4-bc3a-b86d0a8664ea",
        "colab": {
          "base_uri": "https://localhost:8080/",
          "height": 423
        },
        "outputId": "2d16a888-9eaa-4703-bd22-6da0a32fc548"
      },
      "outputs": [
        {
          "output_type": "execute_result",
          "data": {
            "text/plain": [
              "     user_id  age  annual_income  purchase_amount  loyalty_score region  \\\n",
              "0          1   25          45000              200            4.5  North   \n",
              "1          2   34          55000              350            7.0  South   \n",
              "2          3   45          65000              500            8.0   West   \n",
              "3          4   22          30000              150            3.0   East   \n",
              "4          5   29          47000              220            4.8  North   \n",
              "..       ...  ...            ...              ...            ...    ...   \n",
              "233      234   40          60000              450            7.2   West   \n",
              "234      235   38          59000              430            6.9  North   \n",
              "235      236   54          74000              630            9.4  South   \n",
              "236      237   32          52000              360            5.8   West   \n",
              "237      238   31          51000              340            5.6  North   \n",
              "\n",
              "     purchase_frequency  \n",
              "0                    12  \n",
              "1                    18  \n",
              "2                    22  \n",
              "3                    10  \n",
              "4                    13  \n",
              "..                  ...  \n",
              "233                  20  \n",
              "234                  20  \n",
              "235                  27  \n",
              "236                  18  \n",
              "237                  17  \n",
              "\n",
              "[238 rows x 7 columns]"
            ],
            "text/html": [
              "\n",
              "  <div id=\"df-cf766bd8-6660-4a70-8820-552391682180\" class=\"colab-df-container\">\n",
              "    <div>\n",
              "<style scoped>\n",
              "    .dataframe tbody tr th:only-of-type {\n",
              "        vertical-align: middle;\n",
              "    }\n",
              "\n",
              "    .dataframe tbody tr th {\n",
              "        vertical-align: top;\n",
              "    }\n",
              "\n",
              "    .dataframe thead th {\n",
              "        text-align: right;\n",
              "    }\n",
              "</style>\n",
              "<table border=\"1\" class=\"dataframe\">\n",
              "  <thead>\n",
              "    <tr style=\"text-align: right;\">\n",
              "      <th></th>\n",
              "      <th>user_id</th>\n",
              "      <th>age</th>\n",
              "      <th>annual_income</th>\n",
              "      <th>purchase_amount</th>\n",
              "      <th>loyalty_score</th>\n",
              "      <th>region</th>\n",
              "      <th>purchase_frequency</th>\n",
              "    </tr>\n",
              "  </thead>\n",
              "  <tbody>\n",
              "    <tr>\n",
              "      <th>0</th>\n",
              "      <td>1</td>\n",
              "      <td>25</td>\n",
              "      <td>45000</td>\n",
              "      <td>200</td>\n",
              "      <td>4.5</td>\n",
              "      <td>North</td>\n",
              "      <td>12</td>\n",
              "    </tr>\n",
              "    <tr>\n",
              "      <th>1</th>\n",
              "      <td>2</td>\n",
              "      <td>34</td>\n",
              "      <td>55000</td>\n",
              "      <td>350</td>\n",
              "      <td>7.0</td>\n",
              "      <td>South</td>\n",
              "      <td>18</td>\n",
              "    </tr>\n",
              "    <tr>\n",
              "      <th>2</th>\n",
              "      <td>3</td>\n",
              "      <td>45</td>\n",
              "      <td>65000</td>\n",
              "      <td>500</td>\n",
              "      <td>8.0</td>\n",
              "      <td>West</td>\n",
              "      <td>22</td>\n",
              "    </tr>\n",
              "    <tr>\n",
              "      <th>3</th>\n",
              "      <td>4</td>\n",
              "      <td>22</td>\n",
              "      <td>30000</td>\n",
              "      <td>150</td>\n",
              "      <td>3.0</td>\n",
              "      <td>East</td>\n",
              "      <td>10</td>\n",
              "    </tr>\n",
              "    <tr>\n",
              "      <th>4</th>\n",
              "      <td>5</td>\n",
              "      <td>29</td>\n",
              "      <td>47000</td>\n",
              "      <td>220</td>\n",
              "      <td>4.8</td>\n",
              "      <td>North</td>\n",
              "      <td>13</td>\n",
              "    </tr>\n",
              "    <tr>\n",
              "      <th>...</th>\n",
              "      <td>...</td>\n",
              "      <td>...</td>\n",
              "      <td>...</td>\n",
              "      <td>...</td>\n",
              "      <td>...</td>\n",
              "      <td>...</td>\n",
              "      <td>...</td>\n",
              "    </tr>\n",
              "    <tr>\n",
              "      <th>233</th>\n",
              "      <td>234</td>\n",
              "      <td>40</td>\n",
              "      <td>60000</td>\n",
              "      <td>450</td>\n",
              "      <td>7.2</td>\n",
              "      <td>West</td>\n",
              "      <td>20</td>\n",
              "    </tr>\n",
              "    <tr>\n",
              "      <th>234</th>\n",
              "      <td>235</td>\n",
              "      <td>38</td>\n",
              "      <td>59000</td>\n",
              "      <td>430</td>\n",
              "      <td>6.9</td>\n",
              "      <td>North</td>\n",
              "      <td>20</td>\n",
              "    </tr>\n",
              "    <tr>\n",
              "      <th>235</th>\n",
              "      <td>236</td>\n",
              "      <td>54</td>\n",
              "      <td>74000</td>\n",
              "      <td>630</td>\n",
              "      <td>9.4</td>\n",
              "      <td>South</td>\n",
              "      <td>27</td>\n",
              "    </tr>\n",
              "    <tr>\n",
              "      <th>236</th>\n",
              "      <td>237</td>\n",
              "      <td>32</td>\n",
              "      <td>52000</td>\n",
              "      <td>360</td>\n",
              "      <td>5.8</td>\n",
              "      <td>West</td>\n",
              "      <td>18</td>\n",
              "    </tr>\n",
              "    <tr>\n",
              "      <th>237</th>\n",
              "      <td>238</td>\n",
              "      <td>31</td>\n",
              "      <td>51000</td>\n",
              "      <td>340</td>\n",
              "      <td>5.6</td>\n",
              "      <td>North</td>\n",
              "      <td>17</td>\n",
              "    </tr>\n",
              "  </tbody>\n",
              "</table>\n",
              "<p>238 rows × 7 columns</p>\n",
              "</div>\n",
              "    <div class=\"colab-df-buttons\">\n",
              "\n",
              "  <div class=\"colab-df-container\">\n",
              "    <button class=\"colab-df-convert\" onclick=\"convertToInteractive('df-cf766bd8-6660-4a70-8820-552391682180')\"\n",
              "            title=\"Convert this dataframe to an interactive table.\"\n",
              "            style=\"display:none;\">\n",
              "\n",
              "  <svg xmlns=\"http://www.w3.org/2000/svg\" height=\"24px\" viewBox=\"0 -960 960 960\">\n",
              "    <path d=\"M120-120v-720h720v720H120Zm60-500h600v-160H180v160Zm220 220h160v-160H400v160Zm0 220h160v-160H400v160ZM180-400h160v-160H180v160Zm440 0h160v-160H620v160ZM180-180h160v-160H180v160Zm440 0h160v-160H620v160Z\"/>\n",
              "  </svg>\n",
              "    </button>\n",
              "\n",
              "  <style>\n",
              "    .colab-df-container {\n",
              "      display:flex;\n",
              "      gap: 12px;\n",
              "    }\n",
              "\n",
              "    .colab-df-convert {\n",
              "      background-color: #E8F0FE;\n",
              "      border: none;\n",
              "      border-radius: 50%;\n",
              "      cursor: pointer;\n",
              "      display: none;\n",
              "      fill: #1967D2;\n",
              "      height: 32px;\n",
              "      padding: 0 0 0 0;\n",
              "      width: 32px;\n",
              "    }\n",
              "\n",
              "    .colab-df-convert:hover {\n",
              "      background-color: #E2EBFA;\n",
              "      box-shadow: 0px 1px 2px rgba(60, 64, 67, 0.3), 0px 1px 3px 1px rgba(60, 64, 67, 0.15);\n",
              "      fill: #174EA6;\n",
              "    }\n",
              "\n",
              "    .colab-df-buttons div {\n",
              "      margin-bottom: 4px;\n",
              "    }\n",
              "\n",
              "    [theme=dark] .colab-df-convert {\n",
              "      background-color: #3B4455;\n",
              "      fill: #D2E3FC;\n",
              "    }\n",
              "\n",
              "    [theme=dark] .colab-df-convert:hover {\n",
              "      background-color: #434B5C;\n",
              "      box-shadow: 0px 1px 3px 1px rgba(0, 0, 0, 0.15);\n",
              "      filter: drop-shadow(0px 1px 2px rgba(0, 0, 0, 0.3));\n",
              "      fill: #FFFFFF;\n",
              "    }\n",
              "  </style>\n",
              "\n",
              "    <script>\n",
              "      const buttonEl =\n",
              "        document.querySelector('#df-cf766bd8-6660-4a70-8820-552391682180 button.colab-df-convert');\n",
              "      buttonEl.style.display =\n",
              "        google.colab.kernel.accessAllowed ? 'block' : 'none';\n",
              "\n",
              "      async function convertToInteractive(key) {\n",
              "        const element = document.querySelector('#df-cf766bd8-6660-4a70-8820-552391682180');\n",
              "        const dataTable =\n",
              "          await google.colab.kernel.invokeFunction('convertToInteractive',\n",
              "                                                    [key], {});\n",
              "        if (!dataTable) return;\n",
              "\n",
              "        const docLinkHtml = 'Like what you see? Visit the ' +\n",
              "          '<a target=\"_blank\" href=https://colab.research.google.com/notebooks/data_table.ipynb>data table notebook</a>'\n",
              "          + ' to learn more about interactive tables.';\n",
              "        element.innerHTML = '';\n",
              "        dataTable['output_type'] = 'display_data';\n",
              "        await google.colab.output.renderOutput(dataTable, element);\n",
              "        const docLink = document.createElement('div');\n",
              "        docLink.innerHTML = docLinkHtml;\n",
              "        element.appendChild(docLink);\n",
              "      }\n",
              "    </script>\n",
              "  </div>\n",
              "\n",
              "\n",
              "<div id=\"df-347dd8ce-b398-47bf-9a74-5c0e01149892\">\n",
              "  <button class=\"colab-df-quickchart\" onclick=\"quickchart('df-347dd8ce-b398-47bf-9a74-5c0e01149892')\"\n",
              "            title=\"Suggest charts\"\n",
              "            style=\"display:none;\">\n",
              "\n",
              "<svg xmlns=\"http://www.w3.org/2000/svg\" height=\"24px\"viewBox=\"0 0 24 24\"\n",
              "     width=\"24px\">\n",
              "    <g>\n",
              "        <path d=\"M19 3H5c-1.1 0-2 .9-2 2v14c0 1.1.9 2 2 2h14c1.1 0 2-.9 2-2V5c0-1.1-.9-2-2-2zM9 17H7v-7h2v7zm4 0h-2V7h2v10zm4 0h-2v-4h2v4z\"/>\n",
              "    </g>\n",
              "</svg>\n",
              "  </button>\n",
              "\n",
              "<style>\n",
              "  .colab-df-quickchart {\n",
              "      --bg-color: #E8F0FE;\n",
              "      --fill-color: #1967D2;\n",
              "      --hover-bg-color: #E2EBFA;\n",
              "      --hover-fill-color: #174EA6;\n",
              "      --disabled-fill-color: #AAA;\n",
              "      --disabled-bg-color: #DDD;\n",
              "  }\n",
              "\n",
              "  [theme=dark] .colab-df-quickchart {\n",
              "      --bg-color: #3B4455;\n",
              "      --fill-color: #D2E3FC;\n",
              "      --hover-bg-color: #434B5C;\n",
              "      --hover-fill-color: #FFFFFF;\n",
              "      --disabled-bg-color: #3B4455;\n",
              "      --disabled-fill-color: #666;\n",
              "  }\n",
              "\n",
              "  .colab-df-quickchart {\n",
              "    background-color: var(--bg-color);\n",
              "    border: none;\n",
              "    border-radius: 50%;\n",
              "    cursor: pointer;\n",
              "    display: none;\n",
              "    fill: var(--fill-color);\n",
              "    height: 32px;\n",
              "    padding: 0;\n",
              "    width: 32px;\n",
              "  }\n",
              "\n",
              "  .colab-df-quickchart:hover {\n",
              "    background-color: var(--hover-bg-color);\n",
              "    box-shadow: 0 1px 2px rgba(60, 64, 67, 0.3), 0 1px 3px 1px rgba(60, 64, 67, 0.15);\n",
              "    fill: var(--button-hover-fill-color);\n",
              "  }\n",
              "\n",
              "  .colab-df-quickchart-complete:disabled,\n",
              "  .colab-df-quickchart-complete:disabled:hover {\n",
              "    background-color: var(--disabled-bg-color);\n",
              "    fill: var(--disabled-fill-color);\n",
              "    box-shadow: none;\n",
              "  }\n",
              "\n",
              "  .colab-df-spinner {\n",
              "    border: 2px solid var(--fill-color);\n",
              "    border-color: transparent;\n",
              "    border-bottom-color: var(--fill-color);\n",
              "    animation:\n",
              "      spin 1s steps(1) infinite;\n",
              "  }\n",
              "\n",
              "  @keyframes spin {\n",
              "    0% {\n",
              "      border-color: transparent;\n",
              "      border-bottom-color: var(--fill-color);\n",
              "      border-left-color: var(--fill-color);\n",
              "    }\n",
              "    20% {\n",
              "      border-color: transparent;\n",
              "      border-left-color: var(--fill-color);\n",
              "      border-top-color: var(--fill-color);\n",
              "    }\n",
              "    30% {\n",
              "      border-color: transparent;\n",
              "      border-left-color: var(--fill-color);\n",
              "      border-top-color: var(--fill-color);\n",
              "      border-right-color: var(--fill-color);\n",
              "    }\n",
              "    40% {\n",
              "      border-color: transparent;\n",
              "      border-right-color: var(--fill-color);\n",
              "      border-top-color: var(--fill-color);\n",
              "    }\n",
              "    60% {\n",
              "      border-color: transparent;\n",
              "      border-right-color: var(--fill-color);\n",
              "    }\n",
              "    80% {\n",
              "      border-color: transparent;\n",
              "      border-right-color: var(--fill-color);\n",
              "      border-bottom-color: var(--fill-color);\n",
              "    }\n",
              "    90% {\n",
              "      border-color: transparent;\n",
              "      border-bottom-color: var(--fill-color);\n",
              "    }\n",
              "  }\n",
              "</style>\n",
              "\n",
              "  <script>\n",
              "    async function quickchart(key) {\n",
              "      const quickchartButtonEl =\n",
              "        document.querySelector('#' + key + ' button');\n",
              "      quickchartButtonEl.disabled = true;  // To prevent multiple clicks.\n",
              "      quickchartButtonEl.classList.add('colab-df-spinner');\n",
              "      try {\n",
              "        const charts = await google.colab.kernel.invokeFunction(\n",
              "            'suggestCharts', [key], {});\n",
              "      } catch (error) {\n",
              "        console.error('Error during call to suggestCharts:', error);\n",
              "      }\n",
              "      quickchartButtonEl.classList.remove('colab-df-spinner');\n",
              "      quickchartButtonEl.classList.add('colab-df-quickchart-complete');\n",
              "    }\n",
              "    (() => {\n",
              "      let quickchartButtonEl =\n",
              "        document.querySelector('#df-347dd8ce-b398-47bf-9a74-5c0e01149892 button');\n",
              "      quickchartButtonEl.style.display =\n",
              "        google.colab.kernel.accessAllowed ? 'block' : 'none';\n",
              "    })();\n",
              "  </script>\n",
              "</div>\n",
              "    </div>\n",
              "  </div>\n"
            ],
            "application/vnd.google.colaboratory.intrinsic+json": {
              "type": "dataframe",
              "variable_name": "df",
              "summary": "{\n  \"name\": \"df\",\n  \"rows\": 238,\n  \"fields\": [\n    {\n      \"column\": \"user_id\",\n      \"properties\": {\n        \"dtype\": \"number\",\n        \"std\": 68,\n        \"min\": 1,\n        \"max\": 238,\n        \"num_unique_values\": 238,\n        \"samples\": [\n          116,\n          16,\n          213\n        ],\n        \"semantic_type\": \"\",\n        \"description\": \"\"\n      }\n    },\n    {\n      \"column\": \"age\",\n      \"properties\": {\n        \"dtype\": \"number\",\n        \"std\": 9,\n        \"min\": 22,\n        \"max\": 55,\n        \"num_unique_values\": 34,\n        \"samples\": [\n          23,\n          26,\n          51\n        ],\n        \"semantic_type\": \"\",\n        \"description\": \"\"\n      }\n    },\n    {\n      \"column\": \"annual_income\",\n      \"properties\": {\n        \"dtype\": \"number\",\n        \"std\": 11403,\n        \"min\": 30000,\n        \"max\": 75000,\n        \"num_unique_values\": 36,\n        \"samples\": [\n          51000,\n          58000,\n          52000\n        ],\n        \"semantic_type\": \"\",\n        \"description\": \"\"\n      }\n    },\n    {\n      \"column\": \"purchase_amount\",\n      \"properties\": {\n        \"dtype\": \"number\",\n        \"std\": 140,\n        \"min\": 150,\n        \"max\": 640,\n        \"num_unique_values\": 36,\n        \"samples\": [\n          270,\n          420,\n          360\n        ],\n        \"semantic_type\": \"\",\n        \"description\": \"\"\n      }\n    },\n    {\n      \"column\": \"loyalty_score\",\n      \"properties\": {\n        \"dtype\": \"number\",\n        \"std\": 1.8990468014330923,\n        \"min\": 3.0,\n        \"max\": 9.5,\n        \"num_unique_values\": 35,\n        \"samples\": [\n          4.6,\n          6.8,\n          8.3\n        ],\n        \"semantic_type\": \"\",\n        \"description\": \"\"\n      }\n    },\n    {\n      \"column\": \"region\",\n      \"properties\": {\n        \"dtype\": \"category\",\n        \"num_unique_values\": 4,\n        \"samples\": [\n          \"South\",\n          \"East\",\n          \"North\"\n        ],\n        \"semantic_type\": \"\",\n        \"description\": \"\"\n      }\n    },\n    {\n      \"column\": \"purchase_frequency\",\n      \"properties\": {\n        \"dtype\": \"number\",\n        \"std\": 4,\n        \"min\": 10,\n        \"max\": 28,\n        \"num_unique_values\": 19,\n        \"samples\": [\n          12,\n          21,\n          23\n        ],\n        \"semantic_type\": \"\",\n        \"description\": \"\"\n      }\n    }\n  ]\n}"
            }
          },
          "metadata": {},
          "execution_count": 5
        }
      ],
      "source": [
        "# Load dataset here\n",
        "df = pd.read_csv(\"/content/CustomerPurchasingBehaviors.csv\")\n",
        "df"
      ]
    },
    {
      "cell_type": "markdown",
      "id": "1d447d6e-cfde-411c-9078-cd8f41f02d8b",
      "metadata": {
        "id": "1d447d6e-cfde-411c-9078-cd8f41f02d8b"
      },
      "source": [
        "8. Какой средний годовой доход у клиентов с уровнем лояльности больше 50 живущих на севере"
      ]
    },
    {
      "cell_type": "code",
      "execution_count": null,
      "id": "b30df6b1-5eca-43da-a115-1c1a3cbfd899",
      "metadata": {
        "id": "b30df6b1-5eca-43da-a115-1c1a3cbfd899",
        "colab": {
          "base_uri": "https://localhost:8080/"
        },
        "outputId": "498e5da1-e7ee-49a1-e25b-524d9abfcd60"
      },
      "outputs": [
        {
          "output_type": "execute_result",
          "data": {
            "text/plain": [
              "60146.34146341463"
            ]
          },
          "metadata": {},
          "execution_count": 189
        }
      ],
      "source": [
        "df[(df[\"region\"] == \"North\") & (df[\"loyalty_score\"] > 5.0)][\"annual_income\"].mean()"
      ]
    },
    {
      "cell_type": "markdown",
      "id": "c41d5d99-65f7-4d17-82ae-971ec959f327",
      "metadata": {
        "id": "c41d5d99-65f7-4d17-82ae-971ec959f327"
      },
      "source": [
        "9. Выведите 25 и 75 перцентили уровня лоальности клиентов живущих на западе с частотой покупок более 20 раз в год"
      ]
    },
    {
      "cell_type": "code",
      "execution_count": 22,
      "id": "275bcc04-659b-4521-a9e5-200a5f4ef674",
      "metadata": {
        "id": "275bcc04-659b-4521-a9e5-200a5f4ef674",
        "colab": {
          "base_uri": "https://localhost:8080/"
        },
        "outputId": "a19bab1f-f1e1-4600-f17f-aa08e2fd8003"
      },
      "outputs": [
        {
          "output_type": "stream",
          "name": "stdout",
          "text": [
            "25%:  8.5\n",
            "75%:  9.2\n"
          ]
        }
      ],
      "source": [
        "\n",
        "tmp = df[(df[\"region\"] == \"West\") & (df[\"purchase_frequency\"] > 20)].describe(percentiles=[0.25, 0.75])[\"loyalty_score\"]\n",
        "print(\"25%: \", tmp[\"25%\"])\n",
        "print(\"75%: \", tmp[\"75%\"])\n",
        "# df.groupby([\"Churn\"])[columns_to_show].describe(percentiles=[])"
      ]
    },
    {
      "cell_type": "markdown",
      "id": "a1f7a5c0-259c-4837-a5d1-2dfc05e7c13e",
      "metadata": {
        "id": "a1f7a5c0-259c-4837-a5d1-2dfc05e7c13e"
      },
      "source": [
        "10. Отличается ли медианный возраст клиентов с уровнем лояльности более 70 и менее 10 для жителей Востока и Севера."
      ]
    },
    {
      "cell_type": "code",
      "execution_count": null,
      "id": "a2da4d57-edb4-4179-8bee-3deda6cd00e6",
      "metadata": {
        "id": "a2da4d57-edb4-4179-8bee-3deda6cd00e6",
        "colab": {
          "base_uri": "https://localhost:8080/"
        },
        "outputId": "8ddbe06d-c3ed-4685-9f15-df5e0c769354"
      },
      "outputs": [
        {
          "output_type": "stream",
          "name": "stdout",
          "text": [
            "46.0\n",
            "nan\n"
          ]
        }
      ],
      "source": [
        "print(df[((df[\"region\"] == \"East\") | (df[\"region\"] == \"North\")) & (df[\"loyalty_score\"] > 7.0)][\"age\"].median())\n",
        "print(df[((df[\"region\"] == \"East\") | (df[\"region\"] == \"North\")) & (df[\"loyalty_score\"] < 1.0)][\"age\"].median())"
      ]
    },
    {
      "cell_type": "markdown",
      "id": "deb4ca3a-3d8a-4205-bee9-d26fd28638b2",
      "metadata": {
        "id": "deb4ca3a-3d8a-4205-bee9-d26fd28638b2"
      },
      "source": [
        "### 3. Визуализация"
      ]
    },
    {
      "cell_type": "markdown",
      "id": "f8941ce1-cbf2-465a-b013-1b84aeb999ef",
      "metadata": {
        "id": "f8941ce1-cbf2-465a-b013-1b84aeb999ef"
      },
      "source": [
        "Используя библиотеки matplotlib/sns/plotly/pandas и набор данных представленный ранее визуализируйте"
      ]
    },
    {
      "cell_type": "markdown",
      "id": "5e98ce6f-8d02-4120-ad85-241494c038d6",
      "metadata": {
        "id": "5e98ce6f-8d02-4120-ad85-241494c038d6"
      },
      "source": [
        "1. Постройте диаграмму которая отражает средний уровень лояльности во всех регионах"
      ]
    },
    {
      "cell_type": "code",
      "execution_count": 7,
      "id": "664666b2-17b7-49dd-a3bd-c4be9361755d",
      "metadata": {
        "id": "664666b2-17b7-49dd-a3bd-c4be9361755d",
        "colab": {
          "base_uri": "https://localhost:8080/",
          "height": 489
        },
        "outputId": "f4542aa1-245e-459d-9730-fddf8e132c18"
      },
      "outputs": [
        {
          "output_type": "stream",
          "name": "stdout",
          "text": [
            "[5.865384615384615, 6.7259740259740255, 7.911688311688312, 5.400000000000001]\n"
          ]
        },
        {
          "output_type": "display_data",
          "data": {
            "text/plain": [
              "<Figure size 640x480 with 1 Axes>"
            ],
            "image/png": "[encoded data removed]"
          },
          "metadata": {}
        }
      ],
      "source": [
        "import matplotlib.pyplot as plt\n",
        "\n",
        "vals = []\n",
        "\n",
        "vals.append(df[df[\"region\"] == \"North\"][\"loyalty_score\"].mean())\n",
        "vals.append(df[df[\"region\"] == \"South\"][\"loyalty_score\"].mean())\n",
        "vals.append(df[df[\"region\"] == \"West\"][\"loyalty_score\"].mean())\n",
        "vals.append(df[df[\"region\"] == \"East\"][\"loyalty_score\"].mean())\n",
        "\n",
        "print(vals)\n",
        "\n",
        "plt.bar(df[\"region\"].value_counts().index, vals)\n",
        "plt.title('столбец region')\n",
        "plt.xlabel('Категория')\n",
        "\n",
        "plt.show()"
      ]
    },
    {
      "cell_type": "markdown",
      "id": "4c7500bb-36ca-4ea7-bc3c-4f15afbd4c41",
      "metadata": {
        "id": "4c7500bb-36ca-4ea7-bc3c-4f15afbd4c41"
      },
      "source": [
        "2. Постройте гистограмму распределения зарплат клиентов на Севере."
      ]
    },
    {
      "cell_type": "code",
      "execution_count": null,
      "id": "7325e7f8-5f00-4a82-8184-7064505f7ccd",
      "metadata": {
        "id": "7325e7f8-5f00-4a82-8184-7064505f7ccd",
        "colab": {
          "base_uri": "https://localhost:8080/",
          "height": 489
        },
        "outputId": "69094c50-a083-440f-fad1-900249ccb633"
      },
      "outputs": [
        {
          "output_type": "execute_result",
          "data": {
            "text/plain": [
              "Text(0, 0.5, 'df')"
            ]
          },
          "metadata": {},
          "execution_count": 228
        },
        {
          "output_type": "display_data",
          "data": {
            "text/plain": [
              "<Figure size 640x480 with 1 Axes>"
            ],
            "image/png": "[encoded data removed]"
          },
          "metadata": {}
        }
      ],
      "source": [
        "# matplotlib histogram\n",
        "plt.hist(df[df[\"region\"] == \"North\"][\"annual_income\"], color = 'red', edgecolor = 'black')\n",
        "\n",
        "# Add labels\n",
        "plt.title(\"Histogram\")\n",
        "plt.xlabel(\"Salary\")\n",
        "plt.ylabel('df')"
      ]
    },
    {
      "cell_type": "markdown",
      "id": "efdd0669-36e0-4708-ac6b-ad0d92881113",
      "metadata": {
        "id": "efdd0669-36e0-4708-ac6b-ad0d92881113"
      },
      "source": [
        "3. Сравните уровни зарплат людей на севере и юге."
      ]
    },
    {
      "cell_type": "code",
      "execution_count": null,
      "id": "7504a170-04a1-4b86-924d-8d46be16fd3c",
      "metadata": {
        "id": "7504a170-04a1-4b86-924d-8d46be16fd3c",
        "colab": {
          "base_uri": "https://localhost:8080/",
          "height": 489
        },
        "outputId": "3a332d50-effc-4110-f2da-36332f060cb8"
      },
      "outputs": [
        {
          "output_type": "execute_result",
          "data": {
            "text/plain": [
              "Text(0.5, 1.0, 'Comparation')"
            ]
          },
          "metadata": {},
          "execution_count": 237
        },
        {
          "output_type": "display_data",
          "data": {
            "text/plain": [
              "<Figure size 640x480 with 1 Axes>"
            ],
            "image/png": "[encoded data removed]"
          },
          "metadata": {}
        }
      ],
      "source": [
        "north = list(df[df[\"region\"] == \"North\"][\"annual_income\"])\n",
        "south = list(df[df[\"region\"] == \"South\"][\"annual_income\"])\n",
        "colors = [\"#E69F00\", \"#56B4E9\"]\n",
        "names = [\"North\", \"South\"]\n",
        "plt.hist([north, south], color = colors, label=names)\n",
        "plt.legend()\n",
        "plt.xlabel(\"annual_income\")\n",
        "plt.ylabel(\"Quantity\")\n",
        "plt.title(\"Comparation\")"
      ]
    },
    {
      "cell_type": "markdown",
      "id": "b5839a48-e992-45fc-81ee-59cb5aa79dda",
      "metadata": {
        "id": "b5839a48-e992-45fc-81ee-59cb5aa79dda"
      },
      "source": [
        "4. Постройте box plot отображающий распределение уровня лояльности для людей до 20 лет, от 20 до 40, от 40 до 60 и старше 60 лет"
      ]
    },
    {
      "cell_type": "code",
      "execution_count": null,
      "id": "1a942378-45ea-47a0-bac9-488960491613",
      "metadata": {
        "id": "1a942378-45ea-47a0-bac9-488960491613",
        "colab": {
          "base_uri": "https://localhost:8080/",
          "height": 1000
        },
        "outputId": "8a33febd-65f5-454f-8371-f834d634bfa2"
      },
      "outputs": [
        {
          "output_type": "display_data",
          "data": {
            "text/plain": [
              "<Figure size 100x1000 with 1 Axes>"
            ],
            "image/png": "[encoded data removed]"
          },
          "metadata": {}
        },
        {
          "output_type": "display_data",
          "data": {
            "text/plain": [
              "<Figure size 640x480 with 1 Axes>"
            ],
            "image/png": "[encoded data removed]"
          },
          "metadata": {}
        },
        {
          "output_type": "display_data",
          "data": {
            "text/plain": [
              "<Figure size 640x480 with 1 Axes>"
            ],
            "image/png": "[encoded data removed]"
          },
          "metadata": {}
        },
        {
          "output_type": "display_data",
          "data": {
            "text/plain": [
              "<Figure size 640x480 with 1 Axes>"
            ],
            "image/png": "[encoded data removed]"
          },
          "metadata": {}
        }
      ],
      "source": [
        "plt.figure(figsize=(1, 10))\n",
        "plt.boxplot(df[df[\"age\"] < 20][\"loyalty_score\"])\n",
        "plt.title(\"распределение столбца loyalty_score\")\n",
        "plt.ylabel(\"уровень лояльности\")\n",
        "plt.show()\n",
        "\n",
        "\n",
        "plt.boxplot(df[(df[\"age\"] >= 20) & (df[\"age\"] < 40)][\"loyalty_score\"])\n",
        "plt.title(\"распределение столбца loyalty_score\")\n",
        "plt.ylabel(\"уровень лояльности\")\n",
        "plt.show()\n",
        "\n",
        "\n",
        "plt.boxplot(df[(df[\"age\"] >= 40) & (df[\"age\"] < 60)][\"loyalty_score\"])\n",
        "plt.title(\"распределение столбца loyalty_score\")\n",
        "plt.ylabel(\"уровень лояльности\")\n",
        "plt.show()\n",
        "\n",
        "plt.boxplot(df[(df[\"age\"] >= 60)])\n",
        "plt.title(\"распределение столбца loyalty_score\")\n",
        "plt.ylabel(\"уровень лояльности\")\n",
        "plt.show()"
      ]
    },
    {
      "cell_type": "markdown",
      "id": "d4c97bef-bb64-43cc-a89f-7510174492ec",
      "metadata": {
        "id": "d4c97bef-bb64-43cc-a89f-7510174492ec"
      },
      "source": [
        "5. Визуализируйте зависимость частоты покупок от заработка"
      ]
    },
    {
      "cell_type": "code",
      "execution_count": 9,
      "id": "a1f444af-3544-432c-8dc6-bb74d4cff272",
      "metadata": {
        "id": "a1f444af-3544-432c-8dc6-bb74d4cff272",
        "colab": {
          "base_uri": "https://localhost:8080/",
          "height": 472
        },
        "outputId": "9c87df9d-f3c7-43fe-ba41-e35c7af7b7eb"
      },
      "outputs": [
        {
          "output_type": "display_data",
          "data": {
            "text/plain": [
              "<Figure size 640x480 with 1 Axes>"
            ],
            "image/png": "[encoded data removed]"
          },
          "metadata": {}
        }
      ],
      "source": [
        "x = list(df[\"annual_income\"])\n",
        "y = list(df[\"purchase_frequency\"])\n",
        "\n",
        "plt.scatter(x, y)\n",
        "plt.xlabel(\"x - axis\")\n",
        "plt.ylabel(\"y - axis\")\n",
        "plt.title(\"purchase_frequency dependency\")\n",
        "plt.show()"
      ]
    },
    {
      "cell_type": "markdown",
      "id": "a2ab764c-8ac1-4c5a-93ad-8168b0eb4934",
      "metadata": {
        "id": "a2ab764c-8ac1-4c5a-93ad-8168b0eb4934"
      },
      "source": [
        "6. Визуализируйте как зависит сумма покупок от зарплаты клиента"
      ]
    },
    {
      "cell_type": "code",
      "execution_count": 10,
      "id": "6449e306-fb6c-46d4-bcd8-b6b76fbf69d2",
      "metadata": {
        "id": "6449e306-fb6c-46d4-bcd8-b6b76fbf69d2",
        "colab": {
          "base_uri": "https://localhost:8080/",
          "height": 472
        },
        "outputId": "7125d01e-5671-4fe2-eaa4-f514528914dc"
      },
      "outputs": [
        {
          "output_type": "display_data",
          "data": {
            "text/plain": [
              "<Figure size 640x480 with 1 Axes>"
            ],
            "image/png": "[encoded data removed]"
          },
          "metadata": {}
        }
      ],
      "source": [
        "x = list(df[\"annual_income\"])\n",
        "y = list(df[\"purchase_amount\"])\n",
        "\n",
        "plt.scatter(x, y)\n",
        "plt.xlabel(\"x - axis\")\n",
        "plt.ylabel(\"y - axis\")\n",
        "plt.title(\"purchase_amount dependency\")\n",
        "plt.show()"
      ]
    },
    {
      "cell_type": "markdown",
      "id": "16afdeec-8c90-4ed1-a599-e0b1343bbf5c",
      "metadata": {
        "id": "16afdeec-8c90-4ed1-a599-e0b1343bbf5c"
      },
      "source": [
        "7. Придумайте как визуализировать зависимость между частотой покупок, суммой покупок и скором лояльности *\n",
        "\n",
        "\\* Задание на доп. балл"
      ]
    },
    {
      "cell_type": "code",
      "execution_count": null,
      "id": "e10d0cc7-a1ca-4204-a875-b1660e44618d",
      "metadata": {
        "id": "e10d0cc7-a1ca-4204-a875-b1660e44618d"
      },
      "outputs": [],
      "source": []
    }
  ],
  "metadata": {
    "kernelspec": {
      "display_name": "Python 3 (ipykernel)",
      "language": "python",
      "name": "python3"
    },
    "language_info": {
      "codemirror_mode": {
        "name": "ipython",
        "version": 3
      },
      "file_extension": ".py",
      "mimetype": "text/x-python",
      "name": "python",
      "nbconvert_exporter": "python",
      "pygments_lexer": "ipython3",
      "version": "3.11.7"
    },
    "colab": {
      "provenance": []
    }
  },
  "nbformat": 4,
  "nbformat_minor": 5
}